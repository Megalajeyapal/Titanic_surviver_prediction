{
 "cells": [
  {
   "cell_type": "code",
   "execution_count": 1,
   "id": "d6bc9e61",
   "metadata": {
    "_cell_guid": "b1076dfc-b9ad-4769-8c92-a6c4dae69d19",
    "_uuid": "8f2839f25d086af736a60e9eeb907d3b93b6e0e5",
    "execution": {
     "iopub.execute_input": "2022-09-18T22:14:31.987899Z",
     "iopub.status.busy": "2022-09-18T22:14:31.987098Z",
     "iopub.status.idle": "2022-09-18T22:14:32.010460Z",
     "shell.execute_reply": "2022-09-18T22:14:32.009208Z"
    },
    "papermill": {
     "duration": 0.045447,
     "end_time": "2022-09-18T22:14:32.013142",
     "exception": false,
     "start_time": "2022-09-18T22:14:31.967695",
     "status": "completed"
    },
    "tags": []
   },
   "outputs": [
    {
     "name": "stdout",
     "output_type": "stream",
     "text": [
      "/kaggle/input/titanic-datasets/train.csv\n",
      "/kaggle/input/titanic-datasets/test.csv\n"
     ]
    }
   ],
   "source": [
    "# This Python 3 environment comes with many helpful analytics libraries installed\n",
    "# It is defined by the kaggle/python Docker image: https://github.com/kaggle/docker-python\n",
    "# For example, here's several helpful packages to load\n",
    "\n",
    "import numpy as np # linear algebra\n",
    "import pandas as pd # data processing, CSV file I/O (e.g. pd.read_csv)\n",
    "\n",
    "# Input data files are available in the read-only \"../input/\" directory\n",
    "# For example, running this (by clicking run or pressing Shift+Enter) will list all files under the input directory\n",
    "\n",
    "import os\n",
    "for dirname, _, filenames in os.walk('/kaggle/input'):\n",
    "    for filename in filenames:\n",
    "        print(os.path.join(dirname, filename))\n",
    "\n",
    "# You can write up to 20GB to the current directory (/kaggle/working/) that gets preserved as output when you create a version using \"Save & Run All\" \n",
    "# You can also write temporary files to /kaggle/temp/, but they won't be saved outside of the current session"
   ]
  },
  {
   "cell_type": "code",
   "execution_count": 2,
   "id": "ab46c33c",
   "metadata": {
    "execution": {
     "iopub.execute_input": "2022-09-18T22:14:32.050247Z",
     "iopub.status.busy": "2022-09-18T22:14:32.049578Z",
     "iopub.status.idle": "2022-09-18T22:14:33.677829Z",
     "shell.execute_reply": "2022-09-18T22:14:33.676540Z"
    },
    "papermill": {
     "duration": 1.649061,
     "end_time": "2022-09-18T22:14:33.680722",
     "exception": false,
     "start_time": "2022-09-18T22:14:32.031661",
     "status": "completed"
    },
    "tags": []
   },
   "outputs": [],
   "source": [
    "# Importing pandas and np\n",
    "import numpy as np\n",
    "import pandas as pd\n",
    "# Importing Classifier Modules\n",
    "from sklearn.model_selection import KFold\n",
    "from sklearn.model_selection import cross_val_score\n",
    "from sklearn.linear_model import Perceptron\n",
    "from sklearn.linear_model import LogisticRegression\n",
    "from sklearn.svm import SVC, LinearSVC\n",
    "from sklearn.ensemble import RandomForestClassifier\n",
    "from sklearn.neighbors import KNeighborsClassifier\n",
    "from sklearn.naive_bayes import GaussianNB\n",
    "from sklearn.linear_model import Perceptron\n",
    "from sklearn.linear_model import SGDClassifier\n",
    "from sklearn.tree import DecisionTreeClassifier\n",
    "k_fold = KFold(n_splits=10, shuffle=True, random_state=0)\n",
    "import matplotlib.pyplot as plt\n",
    "%matplotlib inline\n",
    "import seaborn as sns\n",
    "sns.set()\n",
    "\n",
    "\n",
    "training = pd.read_csv('../input/titanic-datasets/train.csv')\n",
    "testing = pd.read_csv('../input/titanic-datasets/test.csv')"
   ]
  },
  {
   "cell_type": "code",
   "execution_count": 3,
   "id": "5335dd9d",
   "metadata": {
    "execution": {
     "iopub.execute_input": "2022-09-18T22:14:33.716574Z",
     "iopub.status.busy": "2022-09-18T22:14:33.715712Z",
     "iopub.status.idle": "2022-09-18T22:14:33.741274Z",
     "shell.execute_reply": "2022-09-18T22:14:33.739897Z"
    },
    "papermill": {
     "duration": 0.045464,
     "end_time": "2022-09-18T22:14:33.743838",
     "exception": false,
     "start_time": "2022-09-18T22:14:33.698374",
     "status": "completed"
    },
    "tags": []
   },
   "outputs": [
    {
     "data": {
      "text/html": [
       "<div>\n",
       "<style scoped>\n",
       "    .dataframe tbody tr th:only-of-type {\n",
       "        vertical-align: middle;\n",
       "    }\n",
       "\n",
       "    .dataframe tbody tr th {\n",
       "        vertical-align: top;\n",
       "    }\n",
       "\n",
       "    .dataframe thead th {\n",
       "        text-align: right;\n",
       "    }\n",
       "</style>\n",
       "<table border=\"1\" class=\"dataframe\">\n",
       "  <thead>\n",
       "    <tr style=\"text-align: right;\">\n",
       "      <th></th>\n",
       "      <th>PassengerId</th>\n",
       "      <th>Survived</th>\n",
       "      <th>Pclass</th>\n",
       "      <th>Name</th>\n",
       "      <th>Sex</th>\n",
       "      <th>Age</th>\n",
       "      <th>SibSp</th>\n",
       "      <th>Parch</th>\n",
       "      <th>Ticket</th>\n",
       "      <th>Fare</th>\n",
       "      <th>Cabin</th>\n",
       "      <th>Embarked</th>\n",
       "    </tr>\n",
       "  </thead>\n",
       "  <tbody>\n",
       "    <tr>\n",
       "      <th>0</th>\n",
       "      <td>1</td>\n",
       "      <td>0</td>\n",
       "      <td>3</td>\n",
       "      <td>Braund, Mr. Owen Harris</td>\n",
       "      <td>male</td>\n",
       "      <td>22.0</td>\n",
       "      <td>1</td>\n",
       "      <td>0</td>\n",
       "      <td>A/5 21171</td>\n",
       "      <td>7.2500</td>\n",
       "      <td>NaN</td>\n",
       "      <td>S</td>\n",
       "    </tr>\n",
       "    <tr>\n",
       "      <th>1</th>\n",
       "      <td>2</td>\n",
       "      <td>1</td>\n",
       "      <td>1</td>\n",
       "      <td>Cumings, Mrs. John Bradley (Florence Briggs Th...</td>\n",
       "      <td>female</td>\n",
       "      <td>38.0</td>\n",
       "      <td>1</td>\n",
       "      <td>0</td>\n",
       "      <td>PC 17599</td>\n",
       "      <td>71.2833</td>\n",
       "      <td>C85</td>\n",
       "      <td>C</td>\n",
       "    </tr>\n",
       "    <tr>\n",
       "      <th>2</th>\n",
       "      <td>3</td>\n",
       "      <td>1</td>\n",
       "      <td>3</td>\n",
       "      <td>Heikkinen, Miss. Laina</td>\n",
       "      <td>female</td>\n",
       "      <td>26.0</td>\n",
       "      <td>0</td>\n",
       "      <td>0</td>\n",
       "      <td>STON/O2. 3101282</td>\n",
       "      <td>7.9250</td>\n",
       "      <td>NaN</td>\n",
       "      <td>S</td>\n",
       "    </tr>\n",
       "    <tr>\n",
       "      <th>3</th>\n",
       "      <td>4</td>\n",
       "      <td>1</td>\n",
       "      <td>1</td>\n",
       "      <td>Futrelle, Mrs. Jacques Heath (Lily May Peel)</td>\n",
       "      <td>female</td>\n",
       "      <td>35.0</td>\n",
       "      <td>1</td>\n",
       "      <td>0</td>\n",
       "      <td>113803</td>\n",
       "      <td>53.1000</td>\n",
       "      <td>C123</td>\n",
       "      <td>S</td>\n",
       "    </tr>\n",
       "    <tr>\n",
       "      <th>4</th>\n",
       "      <td>5</td>\n",
       "      <td>0</td>\n",
       "      <td>3</td>\n",
       "      <td>Allen, Mr. William Henry</td>\n",
       "      <td>male</td>\n",
       "      <td>35.0</td>\n",
       "      <td>0</td>\n",
       "      <td>0</td>\n",
       "      <td>373450</td>\n",
       "      <td>8.0500</td>\n",
       "      <td>NaN</td>\n",
       "      <td>S</td>\n",
       "    </tr>\n",
       "  </tbody>\n",
       "</table>\n",
       "</div>"
      ],
      "text/plain": [
       "   PassengerId  Survived  Pclass  \\\n",
       "0            1         0       3   \n",
       "1            2         1       1   \n",
       "2            3         1       3   \n",
       "3            4         1       1   \n",
       "4            5         0       3   \n",
       "\n",
       "                                                Name     Sex   Age  SibSp  \\\n",
       "0                            Braund, Mr. Owen Harris    male  22.0      1   \n",
       "1  Cumings, Mrs. John Bradley (Florence Briggs Th...  female  38.0      1   \n",
       "2                             Heikkinen, Miss. Laina  female  26.0      0   \n",
       "3       Futrelle, Mrs. Jacques Heath (Lily May Peel)  female  35.0      1   \n",
       "4                           Allen, Mr. William Henry    male  35.0      0   \n",
       "\n",
       "   Parch            Ticket     Fare Cabin Embarked  \n",
       "0      0         A/5 21171   7.2500   NaN        S  \n",
       "1      0          PC 17599  71.2833   C85        C  \n",
       "2      0  STON/O2. 3101282   7.9250   NaN        S  \n",
       "3      0            113803  53.1000  C123        S  \n",
       "4      0            373450   8.0500   NaN        S  "
      ]
     },
     "execution_count": 3,
     "metadata": {},
     "output_type": "execute_result"
    }
   ],
   "source": [
    "training.head(5)"
   ]
  },
  {
   "cell_type": "code",
   "execution_count": 4,
   "id": "a4268458",
   "metadata": {
    "execution": {
     "iopub.execute_input": "2022-09-18T22:14:33.781221Z",
     "iopub.status.busy": "2022-09-18T22:14:33.780726Z",
     "iopub.status.idle": "2022-09-18T22:14:33.789880Z",
     "shell.execute_reply": "2022-09-18T22:14:33.788754Z"
    },
    "papermill": {
     "duration": 0.03019,
     "end_time": "2022-09-18T22:14:33.792297",
     "exception": false,
     "start_time": "2022-09-18T22:14:33.762107",
     "status": "completed"
    },
    "tags": []
   },
   "outputs": [
    {
     "data": {
      "text/plain": [
       "(891, 12)"
      ]
     },
     "execution_count": 4,
     "metadata": {},
     "output_type": "execute_result"
    }
   ],
   "source": [
    "training.shape\n"
   ]
  },
  {
   "cell_type": "code",
   "execution_count": 5,
   "id": "f268fab1",
   "metadata": {
    "execution": {
     "iopub.execute_input": "2022-09-18T22:14:33.828865Z",
     "iopub.status.busy": "2022-09-18T22:14:33.828461Z",
     "iopub.status.idle": "2022-09-18T22:14:33.838193Z",
     "shell.execute_reply": "2022-09-18T22:14:33.837170Z"
    },
    "papermill": {
     "duration": 0.031578,
     "end_time": "2022-09-18T22:14:33.840614",
     "exception": false,
     "start_time": "2022-09-18T22:14:33.809036",
     "status": "completed"
    },
    "tags": []
   },
   "outputs": [
    {
     "data": {
      "text/plain": [
       "(418, 11)"
      ]
     },
     "execution_count": 5,
     "metadata": {},
     "output_type": "execute_result"
    }
   ],
   "source": [
    "testing.shape"
   ]
  },
  {
   "cell_type": "code",
   "execution_count": 6,
   "id": "55b2d063",
   "metadata": {
    "execution": {
     "iopub.execute_input": "2022-09-18T22:14:33.874959Z",
     "iopub.status.busy": "2022-09-18T22:14:33.874540Z",
     "iopub.status.idle": "2022-09-18T22:14:33.900203Z",
     "shell.execute_reply": "2022-09-18T22:14:33.898478Z"
    },
    "papermill": {
     "duration": 0.047391,
     "end_time": "2022-09-18T22:14:33.904243",
     "exception": false,
     "start_time": "2022-09-18T22:14:33.856852",
     "status": "completed"
    },
    "tags": []
   },
   "outputs": [
    {
     "name": "stdout",
     "output_type": "stream",
     "text": [
      "<class 'pandas.core.frame.DataFrame'>\n",
      "RangeIndex: 891 entries, 0 to 890\n",
      "Data columns (total 12 columns):\n",
      " #   Column       Non-Null Count  Dtype  \n",
      "---  ------       --------------  -----  \n",
      " 0   PassengerId  891 non-null    int64  \n",
      " 1   Survived     891 non-null    int64  \n",
      " 2   Pclass       891 non-null    int64  \n",
      " 3   Name         891 non-null    object \n",
      " 4   Sex          891 non-null    object \n",
      " 5   Age          714 non-null    float64\n",
      " 6   SibSp        891 non-null    int64  \n",
      " 7   Parch        891 non-null    int64  \n",
      " 8   Ticket       891 non-null    object \n",
      " 9   Fare         891 non-null    float64\n",
      " 10  Cabin        204 non-null    object \n",
      " 11  Embarked     889 non-null    object \n",
      "dtypes: float64(2), int64(5), object(5)\n",
      "memory usage: 83.7+ KB\n"
     ]
    }
   ],
   "source": [
    "training.info()"
   ]
  },
  {
   "cell_type": "code",
   "execution_count": 7,
   "id": "ba52b35e",
   "metadata": {
    "execution": {
     "iopub.execute_input": "2022-09-18T22:14:33.940542Z",
     "iopub.status.busy": "2022-09-18T22:14:33.939465Z",
     "iopub.status.idle": "2022-09-18T22:14:33.954248Z",
     "shell.execute_reply": "2022-09-18T22:14:33.953070Z"
    },
    "papermill": {
     "duration": 0.035759,
     "end_time": "2022-09-18T22:14:33.957323",
     "exception": false,
     "start_time": "2022-09-18T22:14:33.921564",
     "status": "completed"
    },
    "tags": []
   },
   "outputs": [
    {
     "name": "stdout",
     "output_type": "stream",
     "text": [
      "<class 'pandas.core.frame.DataFrame'>\n",
      "RangeIndex: 418 entries, 0 to 417\n",
      "Data columns (total 11 columns):\n",
      " #   Column       Non-Null Count  Dtype  \n",
      "---  ------       --------------  -----  \n",
      " 0   PassengerId  418 non-null    int64  \n",
      " 1   Pclass       418 non-null    int64  \n",
      " 2   Name         418 non-null    object \n",
      " 3   Sex          418 non-null    object \n",
      " 4   Age          332 non-null    float64\n",
      " 5   SibSp        418 non-null    int64  \n",
      " 6   Parch        418 non-null    int64  \n",
      " 7   Ticket       418 non-null    object \n",
      " 8   Fare         417 non-null    float64\n",
      " 9   Cabin        91 non-null     object \n",
      " 10  Embarked     418 non-null    object \n",
      "dtypes: float64(2), int64(4), object(5)\n",
      "memory usage: 36.0+ KB\n"
     ]
    }
   ],
   "source": [
    "testing.info()"
   ]
  },
  {
   "cell_type": "code",
   "execution_count": 8,
   "id": "a003ed88",
   "metadata": {
    "execution": {
     "iopub.execute_input": "2022-09-18T22:14:33.994485Z",
     "iopub.status.busy": "2022-09-18T22:14:33.994062Z",
     "iopub.status.idle": "2022-09-18T22:14:34.004152Z",
     "shell.execute_reply": "2022-09-18T22:14:34.002839Z"
    },
    "papermill": {
     "duration": 0.032339,
     "end_time": "2022-09-18T22:14:34.006661",
     "exception": false,
     "start_time": "2022-09-18T22:14:33.974322",
     "status": "completed"
    },
    "tags": []
   },
   "outputs": [
    {
     "data": {
      "text/plain": [
       "PassengerId      0\n",
       "Survived         0\n",
       "Pclass           0\n",
       "Name             0\n",
       "Sex              0\n",
       "Age            177\n",
       "SibSp            0\n",
       "Parch            0\n",
       "Ticket           0\n",
       "Fare             0\n",
       "Cabin          687\n",
       "Embarked         2\n",
       "dtype: int64"
      ]
     },
     "execution_count": 8,
     "metadata": {},
     "output_type": "execute_result"
    }
   ],
   "source": [
    "training.isnull().sum()"
   ]
  },
  {
   "cell_type": "code",
   "execution_count": 9,
   "id": "746f96eb",
   "metadata": {
    "execution": {
     "iopub.execute_input": "2022-09-18T22:14:34.042180Z",
     "iopub.status.busy": "2022-09-18T22:14:34.041522Z",
     "iopub.status.idle": "2022-09-18T22:14:34.050732Z",
     "shell.execute_reply": "2022-09-18T22:14:34.049528Z"
    },
    "papermill": {
     "duration": 0.029903,
     "end_time": "2022-09-18T22:14:34.053265",
     "exception": false,
     "start_time": "2022-09-18T22:14:34.023362",
     "status": "completed"
    },
    "tags": []
   },
   "outputs": [
    {
     "data": {
      "text/plain": [
       "PassengerId      0\n",
       "Pclass           0\n",
       "Name             0\n",
       "Sex              0\n",
       "Age             86\n",
       "SibSp            0\n",
       "Parch            0\n",
       "Ticket           0\n",
       "Fare             1\n",
       "Cabin          327\n",
       "Embarked         0\n",
       "dtype: int64"
      ]
     },
     "execution_count": 9,
     "metadata": {},
     "output_type": "execute_result"
    }
   ],
   "source": [
    "testing.isnull().sum()"
   ]
  },
  {
   "cell_type": "code",
   "execution_count": 10,
   "id": "e87634db",
   "metadata": {
    "execution": {
     "iopub.execute_input": "2022-09-18T22:14:34.089743Z",
     "iopub.status.busy": "2022-09-18T22:14:34.089212Z",
     "iopub.status.idle": "2022-09-18T22:14:34.096197Z",
     "shell.execute_reply": "2022-09-18T22:14:34.095039Z"
    },
    "papermill": {
     "duration": 0.027852,
     "end_time": "2022-09-18T22:14:34.098558",
     "exception": false,
     "start_time": "2022-09-18T22:14:34.070706",
     "status": "completed"
    },
    "tags": []
   },
   "outputs": [],
   "source": [
    "def bar_chart(attribute):\n",
    "    survived = training[training['Survived']==1][attribute].value_counts()\n",
    "    death = training[training['Survived']==0][attribute].value_counts()\n",
    "    df = pd.DataFrame([survived,death])\n",
    "    df.index = ['Survived','Death']\n",
    "    df.plot(kind='bar',stacked=True, figsize=(15,3))"
   ]
  },
  {
   "cell_type": "code",
   "execution_count": 11,
   "id": "5135b4a4",
   "metadata": {
    "execution": {
     "iopub.execute_input": "2022-09-18T22:14:34.133495Z",
     "iopub.status.busy": "2022-09-18T22:14:34.133107Z",
     "iopub.status.idle": "2022-09-18T22:14:34.426693Z",
     "shell.execute_reply": "2022-09-18T22:14:34.425081Z"
    },
    "papermill": {
     "duration": 0.314813,
     "end_time": "2022-09-18T22:14:34.430091",
     "exception": false,
     "start_time": "2022-09-18T22:14:34.115278",
     "status": "completed"
    },
    "tags": []
   },
   "outputs": [
    {
     "data": {
      "image/png": "[encoded data removed]",
      "text/plain": [
       "<Figure size 1080x216 with 1 Axes>"
      ]
     },
     "metadata": {},
     "output_type": "display_data"
    }
   ],
   "source": [
    "bar_chart('Sex')"
   ]
  },
  {
   "cell_type": "code",
   "execution_count": 12,
   "id": "b6a96c39",
   "metadata": {
    "execution": {
     "iopub.execute_input": "2022-09-18T22:14:34.469232Z",
     "iopub.status.busy": "2022-09-18T22:14:34.467742Z",
     "iopub.status.idle": "2022-09-18T22:14:34.714046Z",
     "shell.execute_reply": "2022-09-18T22:14:34.712848Z"
    },
    "papermill": {
     "duration": 0.269193,
     "end_time": "2022-09-18T22:14:34.717776",
     "exception": false,
     "start_time": "2022-09-18T22:14:34.448583",
     "status": "completed"
    },
    "tags": []
   },
   "outputs": [
    {
     "data": {
      "image/png": "[encoded data removed]",
      "text/plain": [
       "<Figure size 1080x216 with 1 Axes>"
      ]
     },
     "metadata": {},
     "output_type": "display_data"
    }
   ],
   "source": [
    "bar_chart('Pclass')"
   ]
  },
  {
   "cell_type": "code",
   "execution_count": 13,
   "id": "a913dc36",
   "metadata": {
    "execution": {
     "iopub.execute_input": "2022-09-18T22:14:34.754582Z",
     "iopub.status.busy": "2022-09-18T22:14:34.754205Z",
     "iopub.status.idle": "2022-09-18T22:14:35.049391Z",
     "shell.execute_reply": "2022-09-18T22:14:35.048169Z"
    },
    "papermill": {
     "duration": 0.316094,
     "end_time": "2022-09-18T22:14:35.051897",
     "exception": false,
     "start_time": "2022-09-18T22:14:34.735803",
     "status": "completed"
    },
    "tags": []
   },
   "outputs": [
    {
     "data": {
      "image/png": "[encoded data removed]",
      "text/plain": [
       "<Figure size 1080x216 with 1 Axes>"
      ]
     },
     "metadata": {},
     "output_type": "display_data"
    }
   ],
   "source": [
    "bar_chart('SibSp')"
   ]
  },
  {
   "cell_type": "code",
   "execution_count": 14,
   "id": "c310f251",
   "metadata": {
    "execution": {
     "iopub.execute_input": "2022-09-18T22:14:35.089307Z",
     "iopub.status.busy": "2022-09-18T22:14:35.088626Z",
     "iopub.status.idle": "2022-09-18T22:14:35.377243Z",
     "shell.execute_reply": "2022-09-18T22:14:35.376198Z"
    },
    "papermill": {
     "duration": 0.310312,
     "end_time": "2022-09-18T22:14:35.379727",
     "exception": false,
     "start_time": "2022-09-18T22:14:35.069415",
     "status": "completed"
    },
    "tags": []
   },
   "outputs": [
    {
     "data": {
      "image/png": "[encoded data removed]",
      "text/plain": [
       "<Figure size 1080x216 with 1 Axes>"
      ]
     },
     "metadata": {},
     "output_type": "display_data"
    }
   ],
   "source": [
    "bar_chart('Parch')"
   ]
  },
  {
   "cell_type": "code",
   "execution_count": 15,
   "id": "b9b77c4b",
   "metadata": {
    "execution": {
     "iopub.execute_input": "2022-09-18T22:14:35.417819Z",
     "iopub.status.busy": "2022-09-18T22:14:35.417431Z",
     "iopub.status.idle": "2022-09-18T22:14:35.651421Z",
     "shell.execute_reply": "2022-09-18T22:14:35.650175Z"
    },
    "papermill": {
     "duration": 0.256119,
     "end_time": "2022-09-18T22:14:35.654039",
     "exception": false,
     "start_time": "2022-09-18T22:14:35.397920",
     "status": "completed"
    },
    "tags": []
   },
   "outputs": [
    {
     "data": {
      "image/png": "[encoded data removed]",
      "text/plain": [
       "<Figure size 1080x216 with 1 Axes>"
      ]
     },
     "metadata": {},
     "output_type": "display_data"
    }
   ],
   "source": [
    "bar_chart('Embarked')"
   ]
  },
  {
   "cell_type": "code",
   "execution_count": 16,
   "id": "4d927165",
   "metadata": {
    "execution": {
     "iopub.execute_input": "2022-09-18T22:14:35.691520Z",
     "iopub.status.busy": "2022-09-18T22:14:35.691139Z",
     "iopub.status.idle": "2022-09-18T22:14:35.709080Z",
     "shell.execute_reply": "2022-09-18T22:14:35.707942Z"
    },
    "papermill": {
     "duration": 0.039537,
     "end_time": "2022-09-18T22:14:35.711588",
     "exception": false,
     "start_time": "2022-09-18T22:14:35.672051",
     "status": "completed"
    },
    "tags": []
   },
   "outputs": [
    {
     "data": {
      "text/html": [
       "<div>\n",
       "<style scoped>\n",
       "    .dataframe tbody tr th:only-of-type {\n",
       "        vertical-align: middle;\n",
       "    }\n",
       "\n",
       "    .dataframe tbody tr th {\n",
       "        vertical-align: top;\n",
       "    }\n",
       "\n",
       "    .dataframe thead th {\n",
       "        text-align: right;\n",
       "    }\n",
       "</style>\n",
       "<table border=\"1\" class=\"dataframe\">\n",
       "  <thead>\n",
       "    <tr style=\"text-align: right;\">\n",
       "      <th></th>\n",
       "      <th>PassengerId</th>\n",
       "      <th>Survived</th>\n",
       "      <th>Pclass</th>\n",
       "      <th>Name</th>\n",
       "      <th>Sex</th>\n",
       "      <th>Age</th>\n",
       "      <th>SibSp</th>\n",
       "      <th>Parch</th>\n",
       "      <th>Ticket</th>\n",
       "      <th>Fare</th>\n",
       "      <th>Cabin</th>\n",
       "      <th>Embarked</th>\n",
       "    </tr>\n",
       "  </thead>\n",
       "  <tbody>\n",
       "    <tr>\n",
       "      <th>0</th>\n",
       "      <td>1</td>\n",
       "      <td>0</td>\n",
       "      <td>3</td>\n",
       "      <td>Braund, Mr. Owen Harris</td>\n",
       "      <td>male</td>\n",
       "      <td>22.0</td>\n",
       "      <td>1</td>\n",
       "      <td>0</td>\n",
       "      <td>A/5 21171</td>\n",
       "      <td>7.2500</td>\n",
       "      <td>NaN</td>\n",
       "      <td>S</td>\n",
       "    </tr>\n",
       "    <tr>\n",
       "      <th>1</th>\n",
       "      <td>2</td>\n",
       "      <td>1</td>\n",
       "      <td>1</td>\n",
       "      <td>Cumings, Mrs. John Bradley (Florence Briggs Th...</td>\n",
       "      <td>female</td>\n",
       "      <td>38.0</td>\n",
       "      <td>1</td>\n",
       "      <td>0</td>\n",
       "      <td>PC 17599</td>\n",
       "      <td>71.2833</td>\n",
       "      <td>C85</td>\n",
       "      <td>C</td>\n",
       "    </tr>\n",
       "    <tr>\n",
       "      <th>2</th>\n",
       "      <td>3</td>\n",
       "      <td>1</td>\n",
       "      <td>3</td>\n",
       "      <td>Heikkinen, Miss. Laina</td>\n",
       "      <td>female</td>\n",
       "      <td>26.0</td>\n",
       "      <td>0</td>\n",
       "      <td>0</td>\n",
       "      <td>STON/O2. 3101282</td>\n",
       "      <td>7.9250</td>\n",
       "      <td>NaN</td>\n",
       "      <td>S</td>\n",
       "    </tr>\n",
       "    <tr>\n",
       "      <th>3</th>\n",
       "      <td>4</td>\n",
       "      <td>1</td>\n",
       "      <td>1</td>\n",
       "      <td>Futrelle, Mrs. Jacques Heath (Lily May Peel)</td>\n",
       "      <td>female</td>\n",
       "      <td>35.0</td>\n",
       "      <td>1</td>\n",
       "      <td>0</td>\n",
       "      <td>113803</td>\n",
       "      <td>53.1000</td>\n",
       "      <td>C123</td>\n",
       "      <td>S</td>\n",
       "    </tr>\n",
       "    <tr>\n",
       "      <th>4</th>\n",
       "      <td>5</td>\n",
       "      <td>0</td>\n",
       "      <td>3</td>\n",
       "      <td>Allen, Mr. William Henry</td>\n",
       "      <td>male</td>\n",
       "      <td>35.0</td>\n",
       "      <td>0</td>\n",
       "      <td>0</td>\n",
       "      <td>373450</td>\n",
       "      <td>8.0500</td>\n",
       "      <td>NaN</td>\n",
       "      <td>S</td>\n",
       "    </tr>\n",
       "  </tbody>\n",
       "</table>\n",
       "</div>"
      ],
      "text/plain": [
       "   PassengerId  Survived  Pclass  \\\n",
       "0            1         0       3   \n",
       "1            2         1       1   \n",
       "2            3         1       3   \n",
       "3            4         1       1   \n",
       "4            5         0       3   \n",
       "\n",
       "                                                Name     Sex   Age  SibSp  \\\n",
       "0                            Braund, Mr. Owen Harris    male  22.0      1   \n",
       "1  Cumings, Mrs. John Bradley (Florence Briggs Th...  female  38.0      1   \n",
       "2                             Heikkinen, Miss. Laina  female  26.0      0   \n",
       "3       Futrelle, Mrs. Jacques Heath (Lily May Peel)  female  35.0      1   \n",
       "4                           Allen, Mr. William Henry    male  35.0      0   \n",
       "\n",
       "   Parch            Ticket     Fare Cabin Embarked  \n",
       "0      0         A/5 21171   7.2500   NaN        S  \n",
       "1      0          PC 17599  71.2833   C85        C  \n",
       "2      0  STON/O2. 3101282   7.9250   NaN        S  \n",
       "3      0            113803  53.1000  C123        S  \n",
       "4      0            373450   8.0500   NaN        S  "
      ]
     },
     "execution_count": 16,
     "metadata": {},
     "output_type": "execute_result"
    }
   ],
   "source": [
    "training.head()"
   ]
  },
  {
   "cell_type": "code",
   "execution_count": 17,
   "id": "a489d78d",
   "metadata": {
    "execution": {
     "iopub.execute_input": "2022-09-18T22:14:35.749657Z",
     "iopub.status.busy": "2022-09-18T22:14:35.749266Z",
     "iopub.status.idle": "2022-09-18T22:14:35.757780Z",
     "shell.execute_reply": "2022-09-18T22:14:35.756548Z"
    },
    "papermill": {
     "duration": 0.030877,
     "end_time": "2022-09-18T22:14:35.760628",
     "exception": false,
     "start_time": "2022-09-18T22:14:35.729751",
     "status": "completed"
    },
    "tags": []
   },
   "outputs": [],
   "source": [
    "training_testing_data = [training, testing] # combining train and test dataset\n",
    "\n",
    "for data in training_testing_data:\n",
    "    data['Title'] = data['Name'].str.extract(' ([A-Za-z]+)\\.', expand=False)"
   ]
  },
  {
   "cell_type": "code",
   "execution_count": 18,
   "id": "e0bdab20",
   "metadata": {
    "execution": {
     "iopub.execute_input": "2022-09-18T22:14:35.801036Z",
     "iopub.status.busy": "2022-09-18T22:14:35.800599Z",
     "iopub.status.idle": "2022-09-18T22:14:35.810571Z",
     "shell.execute_reply": "2022-09-18T22:14:35.809418Z"
    },
    "papermill": {
     "duration": 0.034045,
     "end_time": "2022-09-18T22:14:35.812950",
     "exception": false,
     "start_time": "2022-09-18T22:14:35.778905",
     "status": "completed"
    },
    "tags": []
   },
   "outputs": [
    {
     "data": {
      "text/plain": [
       "Mr          517\n",
       "Miss        182\n",
       "Mrs         125\n",
       "Master       40\n",
       "Dr            7\n",
       "Rev           6\n",
       "Mlle          2\n",
       "Major         2\n",
       "Col           2\n",
       "Countess      1\n",
       "Capt          1\n",
       "Ms            1\n",
       "Sir           1\n",
       "Lady          1\n",
       "Mme           1\n",
       "Don           1\n",
       "Jonkheer      1\n",
       "Name: Title, dtype: int64"
      ]
     },
     "execution_count": 18,
     "metadata": {},
     "output_type": "execute_result"
    }
   ],
   "source": [
    "training['Title'].value_counts()"
   ]
  },
  {
   "cell_type": "code",
   "execution_count": 19,
   "id": "829f2762",
   "metadata": {
    "execution": {
     "iopub.execute_input": "2022-09-18T22:14:35.851784Z",
     "iopub.status.busy": "2022-09-18T22:14:35.851391Z",
     "iopub.status.idle": "2022-09-18T22:14:35.860254Z",
     "shell.execute_reply": "2022-09-18T22:14:35.859250Z"
    },
    "papermill": {
     "duration": 0.031082,
     "end_time": "2022-09-18T22:14:35.862798",
     "exception": false,
     "start_time": "2022-09-18T22:14:35.831716",
     "status": "completed"
    },
    "tags": []
   },
   "outputs": [
    {
     "data": {
      "text/plain": [
       "Mr        240\n",
       "Miss       78\n",
       "Mrs        72\n",
       "Master     21\n",
       "Col         2\n",
       "Rev         2\n",
       "Ms          1\n",
       "Dr          1\n",
       "Dona        1\n",
       "Name: Title, dtype: int64"
      ]
     },
     "execution_count": 19,
     "metadata": {},
     "output_type": "execute_result"
    }
   ],
   "source": [
    "testing['Title'].value_counts()"
   ]
  },
  {
   "cell_type": "code",
   "execution_count": 20,
   "id": "e7d7dfdb",
   "metadata": {
    "execution": {
     "iopub.execute_input": "2022-09-18T22:14:35.902586Z",
     "iopub.status.busy": "2022-09-18T22:14:35.902195Z",
     "iopub.status.idle": "2022-09-18T22:14:35.911469Z",
     "shell.execute_reply": "2022-09-18T22:14:35.910268Z"
    },
    "papermill": {
     "duration": 0.031939,
     "end_time": "2022-09-18T22:14:35.913658",
     "exception": false,
     "start_time": "2022-09-18T22:14:35.881719",
     "status": "completed"
    },
    "tags": []
   },
   "outputs": [],
   "source": [
    "title_mapping = {\"Mr\": 0, \"Miss\": 1, \"Mrs\": 2, \n",
    "                 \"Master\": 0, \"Dr\": 3, \"Rev\": 3, \"Col\": 3, \"Major\": 0, \"Mlle\": 3,\"Countess\": 3,\n",
    "                 \"Ms\": 1, \"Lady\": 1, \"Jonkheer\": 3, \"Don\": 3, \"Dona\" : 3, \"Mme\": 3,\"Capt\": 3,\"Sir\": 0 }\n",
    "for data in training_testing_data:\n",
    "    data['Title'] = data['Title'].map(title_mapping)"
   ]
  },
  {
   "cell_type": "code",
   "execution_count": 21,
   "id": "ac7a732a",
   "metadata": {
    "execution": {
     "iopub.execute_input": "2022-09-18T22:14:35.954060Z",
     "iopub.status.busy": "2022-09-18T22:14:35.953606Z",
     "iopub.status.idle": "2022-09-18T22:14:35.971577Z",
     "shell.execute_reply": "2022-09-18T22:14:35.970498Z"
    },
    "papermill": {
     "duration": 0.040304,
     "end_time": "2022-09-18T22:14:35.973810",
     "exception": false,
     "start_time": "2022-09-18T22:14:35.933506",
     "status": "completed"
    },
    "tags": []
   },
   "outputs": [
    {
     "data": {
      "text/html": [
       "<div>\n",
       "<style scoped>\n",
       "    .dataframe tbody tr th:only-of-type {\n",
       "        vertical-align: middle;\n",
       "    }\n",
       "\n",
       "    .dataframe tbody tr th {\n",
       "        vertical-align: top;\n",
       "    }\n",
       "\n",
       "    .dataframe thead th {\n",
       "        text-align: right;\n",
       "    }\n",
       "</style>\n",
       "<table border=\"1\" class=\"dataframe\">\n",
       "  <thead>\n",
       "    <tr style=\"text-align: right;\">\n",
       "      <th></th>\n",
       "      <th>PassengerId</th>\n",
       "      <th>Survived</th>\n",
       "      <th>Pclass</th>\n",
       "      <th>Name</th>\n",
       "      <th>Sex</th>\n",
       "      <th>Age</th>\n",
       "      <th>SibSp</th>\n",
       "      <th>Parch</th>\n",
       "      <th>Ticket</th>\n",
       "      <th>Fare</th>\n",
       "      <th>Cabin</th>\n",
       "      <th>Embarked</th>\n",
       "      <th>Title</th>\n",
       "    </tr>\n",
       "  </thead>\n",
       "  <tbody>\n",
       "    <tr>\n",
       "      <th>0</th>\n",
       "      <td>1</td>\n",
       "      <td>0</td>\n",
       "      <td>3</td>\n",
       "      <td>Braund, Mr. Owen Harris</td>\n",
       "      <td>male</td>\n",
       "      <td>22.0</td>\n",
       "      <td>1</td>\n",
       "      <td>0</td>\n",
       "      <td>A/5 21171</td>\n",
       "      <td>7.2500</td>\n",
       "      <td>NaN</td>\n",
       "      <td>S</td>\n",
       "      <td>0</td>\n",
       "    </tr>\n",
       "    <tr>\n",
       "      <th>1</th>\n",
       "      <td>2</td>\n",
       "      <td>1</td>\n",
       "      <td>1</td>\n",
       "      <td>Cumings, Mrs. John Bradley (Florence Briggs Th...</td>\n",
       "      <td>female</td>\n",
       "      <td>38.0</td>\n",
       "      <td>1</td>\n",
       "      <td>0</td>\n",
       "      <td>PC 17599</td>\n",
       "      <td>71.2833</td>\n",
       "      <td>C85</td>\n",
       "      <td>C</td>\n",
       "      <td>2</td>\n",
       "    </tr>\n",
       "    <tr>\n",
       "      <th>2</th>\n",
       "      <td>3</td>\n",
       "      <td>1</td>\n",
       "      <td>3</td>\n",
       "      <td>Heikkinen, Miss. Laina</td>\n",
       "      <td>female</td>\n",
       "      <td>26.0</td>\n",
       "      <td>0</td>\n",
       "      <td>0</td>\n",
       "      <td>STON/O2. 3101282</td>\n",
       "      <td>7.9250</td>\n",
       "      <td>NaN</td>\n",
       "      <td>S</td>\n",
       "      <td>1</td>\n",
       "    </tr>\n",
       "    <tr>\n",
       "      <th>3</th>\n",
       "      <td>4</td>\n",
       "      <td>1</td>\n",
       "      <td>1</td>\n",
       "      <td>Futrelle, Mrs. Jacques Heath (Lily May Peel)</td>\n",
       "      <td>female</td>\n",
       "      <td>35.0</td>\n",
       "      <td>1</td>\n",
       "      <td>0</td>\n",
       "      <td>113803</td>\n",
       "      <td>53.1000</td>\n",
       "      <td>C123</td>\n",
       "      <td>S</td>\n",
       "      <td>2</td>\n",
       "    </tr>\n",
       "    <tr>\n",
       "      <th>4</th>\n",
       "      <td>5</td>\n",
       "      <td>0</td>\n",
       "      <td>3</td>\n",
       "      <td>Allen, Mr. William Henry</td>\n",
       "      <td>male</td>\n",
       "      <td>35.0</td>\n",
       "      <td>0</td>\n",
       "      <td>0</td>\n",
       "      <td>373450</td>\n",
       "      <td>8.0500</td>\n",
       "      <td>NaN</td>\n",
       "      <td>S</td>\n",
       "      <td>0</td>\n",
       "    </tr>\n",
       "  </tbody>\n",
       "</table>\n",
       "</div>"
      ],
      "text/plain": [
       "   PassengerId  Survived  Pclass  \\\n",
       "0            1         0       3   \n",
       "1            2         1       1   \n",
       "2            3         1       3   \n",
       "3            4         1       1   \n",
       "4            5         0       3   \n",
       "\n",
       "                                                Name     Sex   Age  SibSp  \\\n",
       "0                            Braund, Mr. Owen Harris    male  22.0      1   \n",
       "1  Cumings, Mrs. John Bradley (Florence Briggs Th...  female  38.0      1   \n",
       "2                             Heikkinen, Miss. Laina  female  26.0      0   \n",
       "3       Futrelle, Mrs. Jacques Heath (Lily May Peel)  female  35.0      1   \n",
       "4                           Allen, Mr. William Henry    male  35.0      0   \n",
       "\n",
       "   Parch            Ticket     Fare Cabin Embarked  Title  \n",
       "0      0         A/5 21171   7.2500   NaN        S      0  \n",
       "1      0          PC 17599  71.2833   C85        C      2  \n",
       "2      0  STON/O2. 3101282   7.9250   NaN        S      1  \n",
       "3      0            113803  53.1000  C123        S      2  \n",
       "4      0            373450   8.0500   NaN        S      0  "
      ]
     },
     "execution_count": 21,
     "metadata": {},
     "output_type": "execute_result"
    }
   ],
   "source": [
    "training.head()"
   ]
  },
  {
   "cell_type": "code",
   "execution_count": 22,
   "id": "62f8f838",
   "metadata": {
    "execution": {
     "iopub.execute_input": "2022-09-18T22:14:36.014006Z",
     "iopub.status.busy": "2022-09-18T22:14:36.013583Z",
     "iopub.status.idle": "2022-09-18T22:14:36.031448Z",
     "shell.execute_reply": "2022-09-18T22:14:36.030398Z"
    },
    "papermill": {
     "duration": 0.040068,
     "end_time": "2022-09-18T22:14:36.033737",
     "exception": false,
     "start_time": "2022-09-18T22:14:35.993669",
     "status": "completed"
    },
    "tags": []
   },
   "outputs": [
    {
     "data": {
      "text/html": [
       "<div>\n",
       "<style scoped>\n",
       "    .dataframe tbody tr th:only-of-type {\n",
       "        vertical-align: middle;\n",
       "    }\n",
       "\n",
       "    .dataframe tbody tr th {\n",
       "        vertical-align: top;\n",
       "    }\n",
       "\n",
       "    .dataframe thead th {\n",
       "        text-align: right;\n",
       "    }\n",
       "</style>\n",
       "<table border=\"1\" class=\"dataframe\">\n",
       "  <thead>\n",
       "    <tr style=\"text-align: right;\">\n",
       "      <th></th>\n",
       "      <th>PassengerId</th>\n",
       "      <th>Pclass</th>\n",
       "      <th>Name</th>\n",
       "      <th>Sex</th>\n",
       "      <th>Age</th>\n",
       "      <th>SibSp</th>\n",
       "      <th>Parch</th>\n",
       "      <th>Ticket</th>\n",
       "      <th>Fare</th>\n",
       "      <th>Cabin</th>\n",
       "      <th>Embarked</th>\n",
       "      <th>Title</th>\n",
       "    </tr>\n",
       "  </thead>\n",
       "  <tbody>\n",
       "    <tr>\n",
       "      <th>0</th>\n",
       "      <td>892</td>\n",
       "      <td>3</td>\n",
       "      <td>Kelly, Mr. James</td>\n",
       "      <td>male</td>\n",
       "      <td>34.5</td>\n",
       "      <td>0</td>\n",
       "      <td>0</td>\n",
       "      <td>330911</td>\n",
       "      <td>7.8292</td>\n",
       "      <td>NaN</td>\n",
       "      <td>Q</td>\n",
       "      <td>0</td>\n",
       "    </tr>\n",
       "    <tr>\n",
       "      <th>1</th>\n",
       "      <td>893</td>\n",
       "      <td>3</td>\n",
       "      <td>Wilkes, Mrs. James (Ellen Needs)</td>\n",
       "      <td>female</td>\n",
       "      <td>47.0</td>\n",
       "      <td>1</td>\n",
       "      <td>0</td>\n",
       "      <td>363272</td>\n",
       "      <td>7.0000</td>\n",
       "      <td>NaN</td>\n",
       "      <td>S</td>\n",
       "      <td>2</td>\n",
       "    </tr>\n",
       "    <tr>\n",
       "      <th>2</th>\n",
       "      <td>894</td>\n",
       "      <td>2</td>\n",
       "      <td>Myles, Mr. Thomas Francis</td>\n",
       "      <td>male</td>\n",
       "      <td>62.0</td>\n",
       "      <td>0</td>\n",
       "      <td>0</td>\n",
       "      <td>240276</td>\n",
       "      <td>9.6875</td>\n",
       "      <td>NaN</td>\n",
       "      <td>Q</td>\n",
       "      <td>0</td>\n",
       "    </tr>\n",
       "    <tr>\n",
       "      <th>3</th>\n",
       "      <td>895</td>\n",
       "      <td>3</td>\n",
       "      <td>Wirz, Mr. Albert</td>\n",
       "      <td>male</td>\n",
       "      <td>27.0</td>\n",
       "      <td>0</td>\n",
       "      <td>0</td>\n",
       "      <td>315154</td>\n",
       "      <td>8.6625</td>\n",
       "      <td>NaN</td>\n",
       "      <td>S</td>\n",
       "      <td>0</td>\n",
       "    </tr>\n",
       "    <tr>\n",
       "      <th>4</th>\n",
       "      <td>896</td>\n",
       "      <td>3</td>\n",
       "      <td>Hirvonen, Mrs. Alexander (Helga E Lindqvist)</td>\n",
       "      <td>female</td>\n",
       "      <td>22.0</td>\n",
       "      <td>1</td>\n",
       "      <td>1</td>\n",
       "      <td>3101298</td>\n",
       "      <td>12.2875</td>\n",
       "      <td>NaN</td>\n",
       "      <td>S</td>\n",
       "      <td>2</td>\n",
       "    </tr>\n",
       "  </tbody>\n",
       "</table>\n",
       "</div>"
      ],
      "text/plain": [
       "   PassengerId  Pclass                                          Name     Sex  \\\n",
       "0          892       3                              Kelly, Mr. James    male   \n",
       "1          893       3              Wilkes, Mrs. James (Ellen Needs)  female   \n",
       "2          894       2                     Myles, Mr. Thomas Francis    male   \n",
       "3          895       3                              Wirz, Mr. Albert    male   \n",
       "4          896       3  Hirvonen, Mrs. Alexander (Helga E Lindqvist)  female   \n",
       "\n",
       "    Age  SibSp  Parch   Ticket     Fare Cabin Embarked  Title  \n",
       "0  34.5      0      0   330911   7.8292   NaN        Q      0  \n",
       "1  47.0      1      0   363272   7.0000   NaN        S      2  \n",
       "2  62.0      0      0   240276   9.6875   NaN        Q      0  \n",
       "3  27.0      0      0   315154   8.6625   NaN        S      0  \n",
       "4  22.0      1      1  3101298  12.2875   NaN        S      2  "
      ]
     },
     "execution_count": 22,
     "metadata": {},
     "output_type": "execute_result"
    }
   ],
   "source": [
    "testing.head()"
   ]
  },
  {
   "cell_type": "code",
   "execution_count": 23,
   "id": "2ffbceaa",
   "metadata": {
    "execution": {
     "iopub.execute_input": "2022-09-18T22:14:36.074206Z",
     "iopub.status.busy": "2022-09-18T22:14:36.073791Z",
     "iopub.status.idle": "2022-09-18T22:14:36.288216Z",
     "shell.execute_reply": "2022-09-18T22:14:36.287254Z"
    },
    "papermill": {
     "duration": 0.236999,
     "end_time": "2022-09-18T22:14:36.290599",
     "exception": false,
     "start_time": "2022-09-18T22:14:36.053600",
     "status": "completed"
    },
    "tags": []
   },
   "outputs": [
    {
     "data": {
      "image/png": "[encoded data removed]",
      "text/plain": [
       "<Figure size 1080x216 with 1 Axes>"
      ]
     },
     "metadata": {},
     "output_type": "display_data"
    }
   ],
   "source": [
    "bar_chart('Title')"
   ]
  },
  {
   "cell_type": "code",
   "execution_count": 24,
   "id": "6a9b2d76",
   "metadata": {
    "execution": {
     "iopub.execute_input": "2022-09-18T22:14:36.332697Z",
     "iopub.status.busy": "2022-09-18T22:14:36.332079Z",
     "iopub.status.idle": "2022-09-18T22:14:36.339466Z",
     "shell.execute_reply": "2022-09-18T22:14:36.338627Z"
    },
    "papermill": {
     "duration": 0.03152,
     "end_time": "2022-09-18T22:14:36.341907",
     "exception": false,
     "start_time": "2022-09-18T22:14:36.310387",
     "status": "completed"
    },
    "tags": []
   },
   "outputs": [],
   "source": [
    "#Dropping Name field\n",
    "training.drop('Name', axis=1, inplace=True)\n",
    "testing.drop('Name', axis=1, inplace=True)"
   ]
  },
  {
   "cell_type": "code",
   "execution_count": 25,
   "id": "2b295af2",
   "metadata": {
    "execution": {
     "iopub.execute_input": "2022-09-18T22:14:36.383788Z",
     "iopub.status.busy": "2022-09-18T22:14:36.383163Z",
     "iopub.status.idle": "2022-09-18T22:14:36.399688Z",
     "shell.execute_reply": "2022-09-18T22:14:36.398515Z"
    },
    "papermill": {
     "duration": 0.039893,
     "end_time": "2022-09-18T22:14:36.402051",
     "exception": false,
     "start_time": "2022-09-18T22:14:36.362158",
     "status": "completed"
    },
    "tags": []
   },
   "outputs": [
    {
     "data": {
      "text/html": [
       "<div>\n",
       "<style scoped>\n",
       "    .dataframe tbody tr th:only-of-type {\n",
       "        vertical-align: middle;\n",
       "    }\n",
       "\n",
       "    .dataframe tbody tr th {\n",
       "        vertical-align: top;\n",
       "    }\n",
       "\n",
       "    .dataframe thead th {\n",
       "        text-align: right;\n",
       "    }\n",
       "</style>\n",
       "<table border=\"1\" class=\"dataframe\">\n",
       "  <thead>\n",
       "    <tr style=\"text-align: right;\">\n",
       "      <th></th>\n",
       "      <th>PassengerId</th>\n",
       "      <th>Survived</th>\n",
       "      <th>Pclass</th>\n",
       "      <th>Sex</th>\n",
       "      <th>Age</th>\n",
       "      <th>SibSp</th>\n",
       "      <th>Parch</th>\n",
       "      <th>Ticket</th>\n",
       "      <th>Fare</th>\n",
       "      <th>Cabin</th>\n",
       "      <th>Embarked</th>\n",
       "      <th>Title</th>\n",
       "    </tr>\n",
       "  </thead>\n",
       "  <tbody>\n",
       "    <tr>\n",
       "      <th>0</th>\n",
       "      <td>1</td>\n",
       "      <td>0</td>\n",
       "      <td>3</td>\n",
       "      <td>male</td>\n",
       "      <td>22.0</td>\n",
       "      <td>1</td>\n",
       "      <td>0</td>\n",
       "      <td>A/5 21171</td>\n",
       "      <td>7.2500</td>\n",
       "      <td>NaN</td>\n",
       "      <td>S</td>\n",
       "      <td>0</td>\n",
       "    </tr>\n",
       "    <tr>\n",
       "      <th>1</th>\n",
       "      <td>2</td>\n",
       "      <td>1</td>\n",
       "      <td>1</td>\n",
       "      <td>female</td>\n",
       "      <td>38.0</td>\n",
       "      <td>1</td>\n",
       "      <td>0</td>\n",
       "      <td>PC 17599</td>\n",
       "      <td>71.2833</td>\n",
       "      <td>C85</td>\n",
       "      <td>C</td>\n",
       "      <td>2</td>\n",
       "    </tr>\n",
       "    <tr>\n",
       "      <th>2</th>\n",
       "      <td>3</td>\n",
       "      <td>1</td>\n",
       "      <td>3</td>\n",
       "      <td>female</td>\n",
       "      <td>26.0</td>\n",
       "      <td>0</td>\n",
       "      <td>0</td>\n",
       "      <td>STON/O2. 3101282</td>\n",
       "      <td>7.9250</td>\n",
       "      <td>NaN</td>\n",
       "      <td>S</td>\n",
       "      <td>1</td>\n",
       "    </tr>\n",
       "    <tr>\n",
       "      <th>3</th>\n",
       "      <td>4</td>\n",
       "      <td>1</td>\n",
       "      <td>1</td>\n",
       "      <td>female</td>\n",
       "      <td>35.0</td>\n",
       "      <td>1</td>\n",
       "      <td>0</td>\n",
       "      <td>113803</td>\n",
       "      <td>53.1000</td>\n",
       "      <td>C123</td>\n",
       "      <td>S</td>\n",
       "      <td>2</td>\n",
       "    </tr>\n",
       "    <tr>\n",
       "      <th>4</th>\n",
       "      <td>5</td>\n",
       "      <td>0</td>\n",
       "      <td>3</td>\n",
       "      <td>male</td>\n",
       "      <td>35.0</td>\n",
       "      <td>0</td>\n",
       "      <td>0</td>\n",
       "      <td>373450</td>\n",
       "      <td>8.0500</td>\n",
       "      <td>NaN</td>\n",
       "      <td>S</td>\n",
       "      <td>0</td>\n",
       "    </tr>\n",
       "  </tbody>\n",
       "</table>\n",
       "</div>"
      ],
      "text/plain": [
       "   PassengerId  Survived  Pclass     Sex   Age  SibSp  Parch  \\\n",
       "0            1         0       3    male  22.0      1      0   \n",
       "1            2         1       1  female  38.0      1      0   \n",
       "2            3         1       3  female  26.0      0      0   \n",
       "3            4         1       1  female  35.0      1      0   \n",
       "4            5         0       3    male  35.0      0      0   \n",
       "\n",
       "             Ticket     Fare Cabin Embarked  Title  \n",
       "0         A/5 21171   7.2500   NaN        S      0  \n",
       "1          PC 17599  71.2833   C85        C      2  \n",
       "2  STON/O2. 3101282   7.9250   NaN        S      1  \n",
       "3            113803  53.1000  C123        S      2  \n",
       "4            373450   8.0500   NaN        S      0  "
      ]
     },
     "execution_count": 25,
     "metadata": {},
     "output_type": "execute_result"
    }
   ],
   "source": [
    "training.head()"
   ]
  },
  {
   "cell_type": "code",
   "execution_count": 26,
   "id": "3cf0aaca",
   "metadata": {
    "execution": {
     "iopub.execute_input": "2022-09-18T22:14:36.443713Z",
     "iopub.status.busy": "2022-09-18T22:14:36.443085Z",
     "iopub.status.idle": "2022-09-18T22:14:36.459613Z",
     "shell.execute_reply": "2022-09-18T22:14:36.458428Z"
    },
    "papermill": {
     "duration": 0.040312,
     "end_time": "2022-09-18T22:14:36.461956",
     "exception": false,
     "start_time": "2022-09-18T22:14:36.421644",
     "status": "completed"
    },
    "tags": []
   },
   "outputs": [
    {
     "data": {
      "text/html": [
       "<div>\n",
       "<style scoped>\n",
       "    .dataframe tbody tr th:only-of-type {\n",
       "        vertical-align: middle;\n",
       "    }\n",
       "\n",
       "    .dataframe tbody tr th {\n",
       "        vertical-align: top;\n",
       "    }\n",
       "\n",
       "    .dataframe thead th {\n",
       "        text-align: right;\n",
       "    }\n",
       "</style>\n",
       "<table border=\"1\" class=\"dataframe\">\n",
       "  <thead>\n",
       "    <tr style=\"text-align: right;\">\n",
       "      <th></th>\n",
       "      <th>PassengerId</th>\n",
       "      <th>Pclass</th>\n",
       "      <th>Sex</th>\n",
       "      <th>Age</th>\n",
       "      <th>SibSp</th>\n",
       "      <th>Parch</th>\n",
       "      <th>Ticket</th>\n",
       "      <th>Fare</th>\n",
       "      <th>Cabin</th>\n",
       "      <th>Embarked</th>\n",
       "      <th>Title</th>\n",
       "    </tr>\n",
       "  </thead>\n",
       "  <tbody>\n",
       "    <tr>\n",
       "      <th>0</th>\n",
       "      <td>892</td>\n",
       "      <td>3</td>\n",
       "      <td>male</td>\n",
       "      <td>34.5</td>\n",
       "      <td>0</td>\n",
       "      <td>0</td>\n",
       "      <td>330911</td>\n",
       "      <td>7.8292</td>\n",
       "      <td>NaN</td>\n",
       "      <td>Q</td>\n",
       "      <td>0</td>\n",
       "    </tr>\n",
       "    <tr>\n",
       "      <th>1</th>\n",
       "      <td>893</td>\n",
       "      <td>3</td>\n",
       "      <td>female</td>\n",
       "      <td>47.0</td>\n",
       "      <td>1</td>\n",
       "      <td>0</td>\n",
       "      <td>363272</td>\n",
       "      <td>7.0000</td>\n",
       "      <td>NaN</td>\n",
       "      <td>S</td>\n",
       "      <td>2</td>\n",
       "    </tr>\n",
       "    <tr>\n",
       "      <th>2</th>\n",
       "      <td>894</td>\n",
       "      <td>2</td>\n",
       "      <td>male</td>\n",
       "      <td>62.0</td>\n",
       "      <td>0</td>\n",
       "      <td>0</td>\n",
       "      <td>240276</td>\n",
       "      <td>9.6875</td>\n",
       "      <td>NaN</td>\n",
       "      <td>Q</td>\n",
       "      <td>0</td>\n",
       "    </tr>\n",
       "    <tr>\n",
       "      <th>3</th>\n",
       "      <td>895</td>\n",
       "      <td>3</td>\n",
       "      <td>male</td>\n",
       "      <td>27.0</td>\n",
       "      <td>0</td>\n",
       "      <td>0</td>\n",
       "      <td>315154</td>\n",
       "      <td>8.6625</td>\n",
       "      <td>NaN</td>\n",
       "      <td>S</td>\n",
       "      <td>0</td>\n",
       "    </tr>\n",
       "    <tr>\n",
       "      <th>4</th>\n",
       "      <td>896</td>\n",
       "      <td>3</td>\n",
       "      <td>female</td>\n",
       "      <td>22.0</td>\n",
       "      <td>1</td>\n",
       "      <td>1</td>\n",
       "      <td>3101298</td>\n",
       "      <td>12.2875</td>\n",
       "      <td>NaN</td>\n",
       "      <td>S</td>\n",
       "      <td>2</td>\n",
       "    </tr>\n",
       "  </tbody>\n",
       "</table>\n",
       "</div>"
      ],
      "text/plain": [
       "   PassengerId  Pclass     Sex   Age  SibSp  Parch   Ticket     Fare Cabin  \\\n",
       "0          892       3    male  34.5      0      0   330911   7.8292   NaN   \n",
       "1          893       3  female  47.0      1      0   363272   7.0000   NaN   \n",
       "2          894       2    male  62.0      0      0   240276   9.6875   NaN   \n",
       "3          895       3    male  27.0      0      0   315154   8.6625   NaN   \n",
       "4          896       3  female  22.0      1      1  3101298  12.2875   NaN   \n",
       "\n",
       "  Embarked  Title  \n",
       "0        Q      0  \n",
       "1        S      2  \n",
       "2        Q      0  \n",
       "3        S      0  \n",
       "4        S      2  "
      ]
     },
     "execution_count": 26,
     "metadata": {},
     "output_type": "execute_result"
    }
   ],
   "source": [
    "testing.head()"
   ]
  },
  {
   "cell_type": "code",
   "execution_count": 27,
   "id": "d447f0bc",
   "metadata": {
    "execution": {
     "iopub.execute_input": "2022-09-18T22:14:36.503610Z",
     "iopub.status.busy": "2022-09-18T22:14:36.502957Z",
     "iopub.status.idle": "2022-09-18T22:14:36.511010Z",
     "shell.execute_reply": "2022-09-18T22:14:36.510048Z"
    },
    "papermill": {
     "duration": 0.031939,
     "end_time": "2022-09-18T22:14:36.513610",
     "exception": false,
     "start_time": "2022-09-18T22:14:36.481671",
     "status": "completed"
    },
    "tags": []
   },
   "outputs": [],
   "source": [
    "#mapping Gender to numerical values\n",
    "sex_mapping = {\"male\": 0, \"female\": 1}\n",
    "for data in training_testing_data:\n",
    "    data['Sex'] = data['Sex'].map(sex_mapping)"
   ]
  },
  {
   "cell_type": "code",
   "execution_count": 28,
   "id": "d60c9fd0",
   "metadata": {
    "execution": {
     "iopub.execute_input": "2022-09-18T22:14:36.554678Z",
     "iopub.status.busy": "2022-09-18T22:14:36.554236Z",
     "iopub.status.idle": "2022-09-18T22:14:36.786107Z",
     "shell.execute_reply": "2022-09-18T22:14:36.784830Z"
    },
    "papermill": {
     "duration": 0.256889,
     "end_time": "2022-09-18T22:14:36.790215",
     "exception": false,
     "start_time": "2022-09-18T22:14:36.533326",
     "status": "completed"
    },
    "tags": []
   },
   "outputs": [
    {
     "data": {
      "image/png": "[encoded data removed]",
      "text/plain": [
       "<Figure size 1080x216 with 1 Axes>"
      ]
     },
     "metadata": {},
     "output_type": "display_data"
    }
   ],
   "source": [
    "bar_chart('Sex')"
   ]
  },
  {
   "cell_type": "code",
   "execution_count": 29,
   "id": "364a610b",
   "metadata": {
    "execution": {
     "iopub.execute_input": "2022-09-18T22:14:36.833757Z",
     "iopub.status.busy": "2022-09-18T22:14:36.833359Z",
     "iopub.status.idle": "2022-09-18T22:14:36.851704Z",
     "shell.execute_reply": "2022-09-18T22:14:36.850561Z"
    },
    "papermill": {
     "duration": 0.042389,
     "end_time": "2022-09-18T22:14:36.854047",
     "exception": false,
     "start_time": "2022-09-18T22:14:36.811658",
     "status": "completed"
    },
    "tags": []
   },
   "outputs": [
    {
     "data": {
      "text/html": [
       "<div>\n",
       "<style scoped>\n",
       "    .dataframe tbody tr th:only-of-type {\n",
       "        vertical-align: middle;\n",
       "    }\n",
       "\n",
       "    .dataframe tbody tr th {\n",
       "        vertical-align: top;\n",
       "    }\n",
       "\n",
       "    .dataframe thead th {\n",
       "        text-align: right;\n",
       "    }\n",
       "</style>\n",
       "<table border=\"1\" class=\"dataframe\">\n",
       "  <thead>\n",
       "    <tr style=\"text-align: right;\">\n",
       "      <th></th>\n",
       "      <th>PassengerId</th>\n",
       "      <th>Survived</th>\n",
       "      <th>Pclass</th>\n",
       "      <th>Sex</th>\n",
       "      <th>Age</th>\n",
       "      <th>SibSp</th>\n",
       "      <th>Parch</th>\n",
       "      <th>Ticket</th>\n",
       "      <th>Fare</th>\n",
       "      <th>Cabin</th>\n",
       "      <th>Embarked</th>\n",
       "      <th>Title</th>\n",
       "    </tr>\n",
       "  </thead>\n",
       "  <tbody>\n",
       "    <tr>\n",
       "      <th>0</th>\n",
       "      <td>1</td>\n",
       "      <td>0</td>\n",
       "      <td>3</td>\n",
       "      <td>0</td>\n",
       "      <td>22.0</td>\n",
       "      <td>1</td>\n",
       "      <td>0</td>\n",
       "      <td>A/5 21171</td>\n",
       "      <td>7.2500</td>\n",
       "      <td>NaN</td>\n",
       "      <td>S</td>\n",
       "      <td>0</td>\n",
       "    </tr>\n",
       "    <tr>\n",
       "      <th>1</th>\n",
       "      <td>2</td>\n",
       "      <td>1</td>\n",
       "      <td>1</td>\n",
       "      <td>1</td>\n",
       "      <td>38.0</td>\n",
       "      <td>1</td>\n",
       "      <td>0</td>\n",
       "      <td>PC 17599</td>\n",
       "      <td>71.2833</td>\n",
       "      <td>C85</td>\n",
       "      <td>C</td>\n",
       "      <td>2</td>\n",
       "    </tr>\n",
       "    <tr>\n",
       "      <th>2</th>\n",
       "      <td>3</td>\n",
       "      <td>1</td>\n",
       "      <td>3</td>\n",
       "      <td>1</td>\n",
       "      <td>26.0</td>\n",
       "      <td>0</td>\n",
       "      <td>0</td>\n",
       "      <td>STON/O2. 3101282</td>\n",
       "      <td>7.9250</td>\n",
       "      <td>NaN</td>\n",
       "      <td>S</td>\n",
       "      <td>1</td>\n",
       "    </tr>\n",
       "    <tr>\n",
       "      <th>3</th>\n",
       "      <td>4</td>\n",
       "      <td>1</td>\n",
       "      <td>1</td>\n",
       "      <td>1</td>\n",
       "      <td>35.0</td>\n",
       "      <td>1</td>\n",
       "      <td>0</td>\n",
       "      <td>113803</td>\n",
       "      <td>53.1000</td>\n",
       "      <td>C123</td>\n",
       "      <td>S</td>\n",
       "      <td>2</td>\n",
       "    </tr>\n",
       "    <tr>\n",
       "      <th>4</th>\n",
       "      <td>5</td>\n",
       "      <td>0</td>\n",
       "      <td>3</td>\n",
       "      <td>0</td>\n",
       "      <td>35.0</td>\n",
       "      <td>0</td>\n",
       "      <td>0</td>\n",
       "      <td>373450</td>\n",
       "      <td>8.0500</td>\n",
       "      <td>NaN</td>\n",
       "      <td>S</td>\n",
       "      <td>0</td>\n",
       "    </tr>\n",
       "    <tr>\n",
       "      <th>5</th>\n",
       "      <td>6</td>\n",
       "      <td>0</td>\n",
       "      <td>3</td>\n",
       "      <td>0</td>\n",
       "      <td>NaN</td>\n",
       "      <td>0</td>\n",
       "      <td>0</td>\n",
       "      <td>330877</td>\n",
       "      <td>8.4583</td>\n",
       "      <td>NaN</td>\n",
       "      <td>Q</td>\n",
       "      <td>0</td>\n",
       "    </tr>\n",
       "    <tr>\n",
       "      <th>6</th>\n",
       "      <td>7</td>\n",
       "      <td>0</td>\n",
       "      <td>1</td>\n",
       "      <td>0</td>\n",
       "      <td>54.0</td>\n",
       "      <td>0</td>\n",
       "      <td>0</td>\n",
       "      <td>17463</td>\n",
       "      <td>51.8625</td>\n",
       "      <td>E46</td>\n",
       "      <td>S</td>\n",
       "      <td>0</td>\n",
       "    </tr>\n",
       "    <tr>\n",
       "      <th>7</th>\n",
       "      <td>8</td>\n",
       "      <td>0</td>\n",
       "      <td>3</td>\n",
       "      <td>0</td>\n",
       "      <td>2.0</td>\n",
       "      <td>3</td>\n",
       "      <td>1</td>\n",
       "      <td>349909</td>\n",
       "      <td>21.0750</td>\n",
       "      <td>NaN</td>\n",
       "      <td>S</td>\n",
       "      <td>0</td>\n",
       "    </tr>\n",
       "    <tr>\n",
       "      <th>8</th>\n",
       "      <td>9</td>\n",
       "      <td>1</td>\n",
       "      <td>3</td>\n",
       "      <td>1</td>\n",
       "      <td>27.0</td>\n",
       "      <td>0</td>\n",
       "      <td>2</td>\n",
       "      <td>347742</td>\n",
       "      <td>11.1333</td>\n",
       "      <td>NaN</td>\n",
       "      <td>S</td>\n",
       "      <td>2</td>\n",
       "    </tr>\n",
       "    <tr>\n",
       "      <th>9</th>\n",
       "      <td>10</td>\n",
       "      <td>1</td>\n",
       "      <td>2</td>\n",
       "      <td>1</td>\n",
       "      <td>14.0</td>\n",
       "      <td>1</td>\n",
       "      <td>0</td>\n",
       "      <td>237736</td>\n",
       "      <td>30.0708</td>\n",
       "      <td>NaN</td>\n",
       "      <td>C</td>\n",
       "      <td>2</td>\n",
       "    </tr>\n",
       "  </tbody>\n",
       "</table>\n",
       "</div>"
      ],
      "text/plain": [
       "   PassengerId  Survived  Pclass  Sex   Age  SibSp  Parch            Ticket  \\\n",
       "0            1         0       3    0  22.0      1      0         A/5 21171   \n",
       "1            2         1       1    1  38.0      1      0          PC 17599   \n",
       "2            3         1       3    1  26.0      0      0  STON/O2. 3101282   \n",
       "3            4         1       1    1  35.0      1      0            113803   \n",
       "4            5         0       3    0  35.0      0      0            373450   \n",
       "5            6         0       3    0   NaN      0      0            330877   \n",
       "6            7         0       1    0  54.0      0      0             17463   \n",
       "7            8         0       3    0   2.0      3      1            349909   \n",
       "8            9         1       3    1  27.0      0      2            347742   \n",
       "9           10         1       2    1  14.0      1      0            237736   \n",
       "\n",
       "      Fare Cabin Embarked  Title  \n",
       "0   7.2500   NaN        S      0  \n",
       "1  71.2833   C85        C      2  \n",
       "2   7.9250   NaN        S      1  \n",
       "3  53.1000  C123        S      2  \n",
       "4   8.0500   NaN        S      0  \n",
       "5   8.4583   NaN        Q      0  \n",
       "6  51.8625   E46        S      0  \n",
       "7  21.0750   NaN        S      0  \n",
       "8  11.1333   NaN        S      2  \n",
       "9  30.0708   NaN        C      2  "
      ]
     },
     "execution_count": 29,
     "metadata": {},
     "output_type": "execute_result"
    }
   ],
   "source": [
    "training.head(10)"
   ]
  },
  {
   "cell_type": "code",
   "execution_count": 30,
   "id": "371845fd",
   "metadata": {
    "execution": {
     "iopub.execute_input": "2022-09-18T22:14:36.896856Z",
     "iopub.status.busy": "2022-09-18T22:14:36.896099Z",
     "iopub.status.idle": "2022-09-18T22:14:36.908066Z",
     "shell.execute_reply": "2022-09-18T22:14:36.906473Z"
    },
    "papermill": {
     "duration": 0.037141,
     "end_time": "2022-09-18T22:14:36.911305",
     "exception": false,
     "start_time": "2022-09-18T22:14:36.874164",
     "status": "completed"
    },
    "tags": []
   },
   "outputs": [],
   "source": [
    "#filling Age missing values with median of title\n",
    "training[\"Age\"].fillna(training.groupby(\"Title\")[\"Age\"].transform(\"median\"), inplace=True)\n",
    "testing[\"Age\"].fillna(testing.groupby(\"Title\")[\"Age\"].transform(\"median\"), inplace=True)"
   ]
  },
  {
   "cell_type": "code",
   "execution_count": 31,
   "id": "a8e05afd",
   "metadata": {
    "execution": {
     "iopub.execute_input": "2022-09-18T22:14:36.955038Z",
     "iopub.status.busy": "2022-09-18T22:14:36.953819Z",
     "iopub.status.idle": "2022-09-18T22:14:36.965415Z",
     "shell.execute_reply": "2022-09-18T22:14:36.964274Z"
    },
    "papermill": {
     "duration": 0.035815,
     "end_time": "2022-09-18T22:14:36.967927",
     "exception": false,
     "start_time": "2022-09-18T22:14:36.932112",
     "status": "completed"
    },
    "tags": []
   },
   "outputs": [
    {
     "data": {
      "text/plain": [
       "0      28.0\n",
       "1      35.0\n",
       "2      21.0\n",
       "3      35.0\n",
       "4      28.0\n",
       "       ... \n",
       "886    42.0\n",
       "887    21.0\n",
       "888    21.0\n",
       "889    28.0\n",
       "890    28.0\n",
       "Name: Age, Length: 891, dtype: float64"
      ]
     },
     "execution_count": 31,
     "metadata": {},
     "output_type": "execute_result"
    }
   ],
   "source": [
    "training.head(30)\n",
    "training.groupby(\"Title\")[\"Age\"].transform(\"median\")"
   ]
  },
  {
   "cell_type": "code",
   "execution_count": 32,
   "id": "13eebdb2",
   "metadata": {
    "execution": {
     "iopub.execute_input": "2022-09-18T22:14:37.014856Z",
     "iopub.status.busy": "2022-09-18T22:14:37.013446Z",
     "iopub.status.idle": "2022-09-18T22:14:37.028017Z",
     "shell.execute_reply": "2022-09-18T22:14:37.026653Z"
    },
    "papermill": {
     "duration": 0.040004,
     "end_time": "2022-09-18T22:14:37.030826",
     "exception": false,
     "start_time": "2022-09-18T22:14:36.990822",
     "status": "completed"
    },
    "tags": []
   },
   "outputs": [
    {
     "name": "stdout",
     "output_type": "stream",
     "text": [
      "<class 'pandas.core.frame.DataFrame'>\n",
      "RangeIndex: 891 entries, 0 to 890\n",
      "Data columns (total 12 columns):\n",
      " #   Column       Non-Null Count  Dtype  \n",
      "---  ------       --------------  -----  \n",
      " 0   PassengerId  891 non-null    int64  \n",
      " 1   Survived     891 non-null    int64  \n",
      " 2   Pclass       891 non-null    int64  \n",
      " 3   Sex          891 non-null    int64  \n",
      " 4   Age          891 non-null    float64\n",
      " 5   SibSp        891 non-null    int64  \n",
      " 6   Parch        891 non-null    int64  \n",
      " 7   Ticket       891 non-null    object \n",
      " 8   Fare         891 non-null    float64\n",
      " 9   Cabin        204 non-null    object \n",
      " 10  Embarked     889 non-null    object \n",
      " 11  Title        891 non-null    int64  \n",
      "dtypes: float64(2), int64(7), object(3)\n",
      "memory usage: 83.7+ KB\n"
     ]
    }
   ],
   "source": [
    "training.info()"
   ]
  },
  {
   "cell_type": "code",
   "execution_count": 33,
   "id": "3358e073",
   "metadata": {
    "execution": {
     "iopub.execute_input": "2022-09-18T22:14:37.075514Z",
     "iopub.status.busy": "2022-09-18T22:14:37.075096Z",
     "iopub.status.idle": "2022-09-18T22:14:37.091124Z",
     "shell.execute_reply": "2022-09-18T22:14:37.089256Z"
    },
    "papermill": {
     "duration": 0.042347,
     "end_time": "2022-09-18T22:14:37.093748",
     "exception": false,
     "start_time": "2022-09-18T22:14:37.051401",
     "status": "completed"
    },
    "tags": []
   },
   "outputs": [
    {
     "name": "stdout",
     "output_type": "stream",
     "text": [
      "<class 'pandas.core.frame.DataFrame'>\n",
      "RangeIndex: 418 entries, 0 to 417\n",
      "Data columns (total 11 columns):\n",
      " #   Column       Non-Null Count  Dtype  \n",
      "---  ------       --------------  -----  \n",
      " 0   PassengerId  418 non-null    int64  \n",
      " 1   Pclass       418 non-null    int64  \n",
      " 2   Sex          418 non-null    int64  \n",
      " 3   Age          418 non-null    float64\n",
      " 4   SibSp        418 non-null    int64  \n",
      " 5   Parch        418 non-null    int64  \n",
      " 6   Ticket       418 non-null    object \n",
      " 7   Fare         417 non-null    float64\n",
      " 8   Cabin        91 non-null     object \n",
      " 9   Embarked     418 non-null    object \n",
      " 10  Title        418 non-null    int64  \n",
      "dtypes: float64(2), int64(6), object(3)\n",
      "memory usage: 36.0+ KB\n"
     ]
    }
   ],
   "source": [
    "testing.info()"
   ]
  },
  {
   "cell_type": "code",
   "execution_count": 34,
   "id": "756bbe86",
   "metadata": {
    "execution": {
     "iopub.execute_input": "2022-09-18T22:14:37.137915Z",
     "iopub.status.busy": "2022-09-18T22:14:37.136637Z",
     "iopub.status.idle": "2022-09-18T22:14:37.165428Z",
     "shell.execute_reply": "2022-09-18T22:14:37.164364Z"
    },
    "papermill": {
     "duration": 0.053503,
     "end_time": "2022-09-18T22:14:37.168014",
     "exception": false,
     "start_time": "2022-09-18T22:14:37.114511",
     "status": "completed"
    },
    "tags": []
   },
   "outputs": [
    {
     "data": {
      "text/html": [
       "<div>\n",
       "<style scoped>\n",
       "    .dataframe tbody tr th:only-of-type {\n",
       "        vertical-align: middle;\n",
       "    }\n",
       "\n",
       "    .dataframe tbody tr th {\n",
       "        vertical-align: top;\n",
       "    }\n",
       "\n",
       "    .dataframe thead th {\n",
       "        text-align: right;\n",
       "    }\n",
       "</style>\n",
       "<table border=\"1\" class=\"dataframe\">\n",
       "  <thead>\n",
       "    <tr style=\"text-align: right;\">\n",
       "      <th></th>\n",
       "      <th>PassengerId</th>\n",
       "      <th>Survived</th>\n",
       "      <th>Pclass</th>\n",
       "      <th>Sex</th>\n",
       "      <th>Age</th>\n",
       "      <th>SibSp</th>\n",
       "      <th>Parch</th>\n",
       "      <th>Ticket</th>\n",
       "      <th>Fare</th>\n",
       "      <th>Cabin</th>\n",
       "      <th>Embarked</th>\n",
       "      <th>Title</th>\n",
       "    </tr>\n",
       "  </thead>\n",
       "  <tbody>\n",
       "    <tr>\n",
       "      <th>0</th>\n",
       "      <td>1</td>\n",
       "      <td>0</td>\n",
       "      <td>3</td>\n",
       "      <td>0</td>\n",
       "      <td>1.0</td>\n",
       "      <td>1</td>\n",
       "      <td>0</td>\n",
       "      <td>A/5 21171</td>\n",
       "      <td>7.2500</td>\n",
       "      <td>NaN</td>\n",
       "      <td>S</td>\n",
       "      <td>0</td>\n",
       "    </tr>\n",
       "    <tr>\n",
       "      <th>1</th>\n",
       "      <td>2</td>\n",
       "      <td>1</td>\n",
       "      <td>1</td>\n",
       "      <td>1</td>\n",
       "      <td>2.0</td>\n",
       "      <td>1</td>\n",
       "      <td>0</td>\n",
       "      <td>PC 17599</td>\n",
       "      <td>71.2833</td>\n",
       "      <td>C85</td>\n",
       "      <td>C</td>\n",
       "      <td>2</td>\n",
       "    </tr>\n",
       "    <tr>\n",
       "      <th>2</th>\n",
       "      <td>3</td>\n",
       "      <td>1</td>\n",
       "      <td>3</td>\n",
       "      <td>1</td>\n",
       "      <td>1.0</td>\n",
       "      <td>0</td>\n",
       "      <td>0</td>\n",
       "      <td>STON/O2. 3101282</td>\n",
       "      <td>7.9250</td>\n",
       "      <td>NaN</td>\n",
       "      <td>S</td>\n",
       "      <td>1</td>\n",
       "    </tr>\n",
       "    <tr>\n",
       "      <th>3</th>\n",
       "      <td>4</td>\n",
       "      <td>1</td>\n",
       "      <td>1</td>\n",
       "      <td>1</td>\n",
       "      <td>2.0</td>\n",
       "      <td>1</td>\n",
       "      <td>0</td>\n",
       "      <td>113803</td>\n",
       "      <td>53.1000</td>\n",
       "      <td>C123</td>\n",
       "      <td>S</td>\n",
       "      <td>2</td>\n",
       "    </tr>\n",
       "    <tr>\n",
       "      <th>4</th>\n",
       "      <td>5</td>\n",
       "      <td>0</td>\n",
       "      <td>3</td>\n",
       "      <td>0</td>\n",
       "      <td>2.0</td>\n",
       "      <td>0</td>\n",
       "      <td>0</td>\n",
       "      <td>373450</td>\n",
       "      <td>8.0500</td>\n",
       "      <td>NaN</td>\n",
       "      <td>S</td>\n",
       "      <td>0</td>\n",
       "    </tr>\n",
       "  </tbody>\n",
       "</table>\n",
       "</div>"
      ],
      "text/plain": [
       "   PassengerId  Survived  Pclass  Sex  Age  SibSp  Parch            Ticket  \\\n",
       "0            1         0       3    0  1.0      1      0         A/5 21171   \n",
       "1            2         1       1    1  2.0      1      0          PC 17599   \n",
       "2            3         1       3    1  1.0      0      0  STON/O2. 3101282   \n",
       "3            4         1       1    1  2.0      1      0            113803   \n",
       "4            5         0       3    0  2.0      0      0            373450   \n",
       "\n",
       "      Fare Cabin Embarked  Title  \n",
       "0   7.2500   NaN        S      0  \n",
       "1  71.2833   C85        C      2  \n",
       "2   7.9250   NaN        S      1  \n",
       "3  53.1000  C123        S      2  \n",
       "4   8.0500   NaN        S      0  "
      ]
     },
     "execution_count": 34,
     "metadata": {},
     "output_type": "execute_result"
    }
   ],
   "source": [
    "for data in training_testing_data:    \n",
    "    data.loc[ data['Age'] <= 20, 'Age'] = 0\n",
    "    data.loc[(data['Age'] > 20) & (data['Age'] <= 30), 'Age'] = 1\n",
    "    data.loc[(data['Age'] > 30) & (data['Age'] <= 40), 'Age'] = 2\n",
    "    data.loc[(data['Age'] > 40) & (data['Age'] <= 60), 'Age'] = 3\n",
    "    data.loc[ data['Age'] > 60, 'Age']=4\n",
    "training.head()"
   ]
  },
  {
   "cell_type": "code",
   "execution_count": 35,
   "id": "07cb1bc6",
   "metadata": {
    "execution": {
     "iopub.execute_input": "2022-09-18T22:14:37.212371Z",
     "iopub.status.busy": "2022-09-18T22:14:37.211664Z",
     "iopub.status.idle": "2022-09-18T22:14:37.493929Z",
     "shell.execute_reply": "2022-09-18T22:14:37.492701Z"
    },
    "papermill": {
     "duration": 0.307751,
     "end_time": "2022-09-18T22:14:37.496917",
     "exception": false,
     "start_time": "2022-09-18T22:14:37.189166",
     "status": "completed"
    },
    "tags": []
   },
   "outputs": [
    {
     "data": {
      "image/png": "[encoded data removed]",
      "text/plain": [
       "<Figure size 1080x216 with 1 Axes>"
      ]
     },
     "metadata": {},
     "output_type": "display_data"
    }
   ],
   "source": [
    "bar_chart('Age')"
   ]
  },
  {
   "cell_type": "code",
   "execution_count": 36,
   "id": "78526017",
   "metadata": {
    "execution": {
     "iopub.execute_input": "2022-09-18T22:14:37.542087Z",
     "iopub.status.busy": "2022-09-18T22:14:37.541680Z",
     "iopub.status.idle": "2022-09-18T22:14:37.804231Z",
     "shell.execute_reply": "2022-09-18T22:14:37.802883Z"
    },
    "papermill": {
     "duration": 0.287876,
     "end_time": "2022-09-18T22:14:37.806754",
     "exception": false,
     "start_time": "2022-09-18T22:14:37.518878",
     "status": "completed"
    },
    "tags": []
   },
   "outputs": [
    {
     "data": {
      "text/plain": [
       "<AxesSubplot:>"
      ]
     },
     "execution_count": 36,
     "metadata": {},
     "output_type": "execute_result"
    },
    {
     "data": {
      "image/png": "[encoded data removed]",
      "text/plain": [
       "<Figure size 1080x216 with 1 Axes>"
      ]
     },
     "metadata": {},
     "output_type": "display_data"
    }
   ],
   "source": [
    "#Visualizing Embarked values\n",
    "Pclass1 = training[training['Pclass']==1]['Embarked'].value_counts()\n",
    "Pclass2 = training[training['Pclass']==2]['Embarked'].value_counts()\n",
    "Pclass3 = training[training['Pclass']==3]['Embarked'].value_counts()\n",
    "#using bar chart\n",
    "df = pd.DataFrame([Pclass1, Pclass2, Pclass3])\n",
    "df.index = ['Class 1','Class 2', 'Class 3']\n",
    "df.plot(kind='bar', stacked=True, figsize=(15,3))"
   ]
  },
  {
   "cell_type": "code",
   "execution_count": 37,
   "id": "0e72f0b6",
   "metadata": {
    "execution": {
     "iopub.execute_input": "2022-09-18T22:14:37.853696Z",
     "iopub.status.busy": "2022-09-18T22:14:37.853311Z",
     "iopub.status.idle": "2022-09-18T22:14:37.859970Z",
     "shell.execute_reply": "2022-09-18T22:14:37.859043Z"
    },
    "papermill": {
     "duration": 0.033253,
     "end_time": "2022-09-18T22:14:37.862385",
     "exception": false,
     "start_time": "2022-09-18T22:14:37.829132",
     "status": "completed"
    },
    "tags": []
   },
   "outputs": [],
   "source": [
    "#Filling missing values in Embarked attribute with 'S'\n",
    "for data in training_testing_data:\n",
    "    data['Embarked'] = data['Embarked'].fillna('S')"
   ]
  },
  {
   "cell_type": "code",
   "execution_count": 38,
   "id": "2e045bb4",
   "metadata": {
    "execution": {
     "iopub.execute_input": "2022-09-18T22:14:37.911312Z",
     "iopub.status.busy": "2022-09-18T22:14:37.910864Z",
     "iopub.status.idle": "2022-09-18T22:14:37.927889Z",
     "shell.execute_reply": "2022-09-18T22:14:37.926793Z"
    },
    "papermill": {
     "duration": 0.043857,
     "end_time": "2022-09-18T22:14:37.930387",
     "exception": false,
     "start_time": "2022-09-18T22:14:37.886530",
     "status": "completed"
    },
    "tags": []
   },
   "outputs": [
    {
     "data": {
      "text/html": [
       "<div>\n",
       "<style scoped>\n",
       "    .dataframe tbody tr th:only-of-type {\n",
       "        vertical-align: middle;\n",
       "    }\n",
       "\n",
       "    .dataframe tbody tr th {\n",
       "        vertical-align: top;\n",
       "    }\n",
       "\n",
       "    .dataframe thead th {\n",
       "        text-align: right;\n",
       "    }\n",
       "</style>\n",
       "<table border=\"1\" class=\"dataframe\">\n",
       "  <thead>\n",
       "    <tr style=\"text-align: right;\">\n",
       "      <th></th>\n",
       "      <th>PassengerId</th>\n",
       "      <th>Survived</th>\n",
       "      <th>Pclass</th>\n",
       "      <th>Sex</th>\n",
       "      <th>Age</th>\n",
       "      <th>SibSp</th>\n",
       "      <th>Parch</th>\n",
       "      <th>Ticket</th>\n",
       "      <th>Fare</th>\n",
       "      <th>Cabin</th>\n",
       "      <th>Embarked</th>\n",
       "      <th>Title</th>\n",
       "    </tr>\n",
       "  </thead>\n",
       "  <tbody>\n",
       "    <tr>\n",
       "      <th>0</th>\n",
       "      <td>1</td>\n",
       "      <td>0</td>\n",
       "      <td>3</td>\n",
       "      <td>0</td>\n",
       "      <td>1.0</td>\n",
       "      <td>1</td>\n",
       "      <td>0</td>\n",
       "      <td>A/5 21171</td>\n",
       "      <td>7.2500</td>\n",
       "      <td>NaN</td>\n",
       "      <td>S</td>\n",
       "      <td>0</td>\n",
       "    </tr>\n",
       "    <tr>\n",
       "      <th>1</th>\n",
       "      <td>2</td>\n",
       "      <td>1</td>\n",
       "      <td>1</td>\n",
       "      <td>1</td>\n",
       "      <td>2.0</td>\n",
       "      <td>1</td>\n",
       "      <td>0</td>\n",
       "      <td>PC 17599</td>\n",
       "      <td>71.2833</td>\n",
       "      <td>C85</td>\n",
       "      <td>C</td>\n",
       "      <td>2</td>\n",
       "    </tr>\n",
       "    <tr>\n",
       "      <th>2</th>\n",
       "      <td>3</td>\n",
       "      <td>1</td>\n",
       "      <td>3</td>\n",
       "      <td>1</td>\n",
       "      <td>1.0</td>\n",
       "      <td>0</td>\n",
       "      <td>0</td>\n",
       "      <td>STON/O2. 3101282</td>\n",
       "      <td>7.9250</td>\n",
       "      <td>NaN</td>\n",
       "      <td>S</td>\n",
       "      <td>1</td>\n",
       "    </tr>\n",
       "    <tr>\n",
       "      <th>3</th>\n",
       "      <td>4</td>\n",
       "      <td>1</td>\n",
       "      <td>1</td>\n",
       "      <td>1</td>\n",
       "      <td>2.0</td>\n",
       "      <td>1</td>\n",
       "      <td>0</td>\n",
       "      <td>113803</td>\n",
       "      <td>53.1000</td>\n",
       "      <td>C123</td>\n",
       "      <td>S</td>\n",
       "      <td>2</td>\n",
       "    </tr>\n",
       "    <tr>\n",
       "      <th>4</th>\n",
       "      <td>5</td>\n",
       "      <td>0</td>\n",
       "      <td>3</td>\n",
       "      <td>0</td>\n",
       "      <td>2.0</td>\n",
       "      <td>0</td>\n",
       "      <td>0</td>\n",
       "      <td>373450</td>\n",
       "      <td>8.0500</td>\n",
       "      <td>NaN</td>\n",
       "      <td>S</td>\n",
       "      <td>0</td>\n",
       "    </tr>\n",
       "  </tbody>\n",
       "</table>\n",
       "</div>"
      ],
      "text/plain": [
       "   PassengerId  Survived  Pclass  Sex  Age  SibSp  Parch            Ticket  \\\n",
       "0            1         0       3    0  1.0      1      0         A/5 21171   \n",
       "1            2         1       1    1  2.0      1      0          PC 17599   \n",
       "2            3         1       3    1  1.0      0      0  STON/O2. 3101282   \n",
       "3            4         1       1    1  2.0      1      0            113803   \n",
       "4            5         0       3    0  2.0      0      0            373450   \n",
       "\n",
       "      Fare Cabin Embarked  Title  \n",
       "0   7.2500   NaN        S      0  \n",
       "1  71.2833   C85        C      2  \n",
       "2   7.9250   NaN        S      1  \n",
       "3  53.1000  C123        S      2  \n",
       "4   8.0500   NaN        S      0  "
      ]
     },
     "execution_count": 38,
     "metadata": {},
     "output_type": "execute_result"
    }
   ],
   "source": [
    "training.head()"
   ]
  },
  {
   "cell_type": "code",
   "execution_count": 39,
   "id": "f1672e83",
   "metadata": {
    "execution": {
     "iopub.execute_input": "2022-09-18T22:14:37.977717Z",
     "iopub.status.busy": "2022-09-18T22:14:37.976557Z",
     "iopub.status.idle": "2022-09-18T22:14:37.985641Z",
     "shell.execute_reply": "2022-09-18T22:14:37.984437Z"
    },
    "papermill": {
     "duration": 0.036142,
     "end_time": "2022-09-18T22:14:37.988462",
     "exception": false,
     "start_time": "2022-09-18T22:14:37.952320",
     "status": "completed"
    },
    "tags": []
   },
   "outputs": [],
   "source": [
    "#Mapping Embarked attribute values to numerical values\n",
    "embarked_mapping = {\"S\": 0, \"C\": 1, \"Q\": 2}\n",
    "for data in training_testing_data:\n",
    "    data['Embarked'] = data['Embarked'].map(embarked_mapping)"
   ]
  },
  {
   "cell_type": "code",
   "execution_count": 40,
   "id": "5c0aa5b9",
   "metadata": {
    "execution": {
     "iopub.execute_input": "2022-09-18T22:14:38.033800Z",
     "iopub.status.busy": "2022-09-18T22:14:38.033376Z",
     "iopub.status.idle": "2022-09-18T22:14:38.054363Z",
     "shell.execute_reply": "2022-09-18T22:14:38.053283Z"
    },
    "papermill": {
     "duration": 0.046529,
     "end_time": "2022-09-18T22:14:38.056757",
     "exception": false,
     "start_time": "2022-09-18T22:14:38.010228",
     "status": "completed"
    },
    "tags": []
   },
   "outputs": [
    {
     "data": {
      "text/html": [
       "<div>\n",
       "<style scoped>\n",
       "    .dataframe tbody tr th:only-of-type {\n",
       "        vertical-align: middle;\n",
       "    }\n",
       "\n",
       "    .dataframe tbody tr th {\n",
       "        vertical-align: top;\n",
       "    }\n",
       "\n",
       "    .dataframe thead th {\n",
       "        text-align: right;\n",
       "    }\n",
       "</style>\n",
       "<table border=\"1\" class=\"dataframe\">\n",
       "  <thead>\n",
       "    <tr style=\"text-align: right;\">\n",
       "      <th></th>\n",
       "      <th>PassengerId</th>\n",
       "      <th>Survived</th>\n",
       "      <th>Pclass</th>\n",
       "      <th>Sex</th>\n",
       "      <th>Age</th>\n",
       "      <th>SibSp</th>\n",
       "      <th>Parch</th>\n",
       "      <th>Ticket</th>\n",
       "      <th>Fare</th>\n",
       "      <th>Cabin</th>\n",
       "      <th>Embarked</th>\n",
       "      <th>Title</th>\n",
       "    </tr>\n",
       "  </thead>\n",
       "  <tbody>\n",
       "    <tr>\n",
       "      <th>0</th>\n",
       "      <td>1</td>\n",
       "      <td>0</td>\n",
       "      <td>3</td>\n",
       "      <td>0</td>\n",
       "      <td>1.0</td>\n",
       "      <td>1</td>\n",
       "      <td>0</td>\n",
       "      <td>A/5 21171</td>\n",
       "      <td>7.2500</td>\n",
       "      <td>NaN</td>\n",
       "      <td>0</td>\n",
       "      <td>0</td>\n",
       "    </tr>\n",
       "    <tr>\n",
       "      <th>1</th>\n",
       "      <td>2</td>\n",
       "      <td>1</td>\n",
       "      <td>1</td>\n",
       "      <td>1</td>\n",
       "      <td>2.0</td>\n",
       "      <td>1</td>\n",
       "      <td>0</td>\n",
       "      <td>PC 17599</td>\n",
       "      <td>71.2833</td>\n",
       "      <td>C85</td>\n",
       "      <td>1</td>\n",
       "      <td>2</td>\n",
       "    </tr>\n",
       "    <tr>\n",
       "      <th>2</th>\n",
       "      <td>3</td>\n",
       "      <td>1</td>\n",
       "      <td>3</td>\n",
       "      <td>1</td>\n",
       "      <td>1.0</td>\n",
       "      <td>0</td>\n",
       "      <td>0</td>\n",
       "      <td>STON/O2. 3101282</td>\n",
       "      <td>7.9250</td>\n",
       "      <td>NaN</td>\n",
       "      <td>0</td>\n",
       "      <td>1</td>\n",
       "    </tr>\n",
       "    <tr>\n",
       "      <th>3</th>\n",
       "      <td>4</td>\n",
       "      <td>1</td>\n",
       "      <td>1</td>\n",
       "      <td>1</td>\n",
       "      <td>2.0</td>\n",
       "      <td>1</td>\n",
       "      <td>0</td>\n",
       "      <td>113803</td>\n",
       "      <td>53.1000</td>\n",
       "      <td>C123</td>\n",
       "      <td>0</td>\n",
       "      <td>2</td>\n",
       "    </tr>\n",
       "    <tr>\n",
       "      <th>4</th>\n",
       "      <td>5</td>\n",
       "      <td>0</td>\n",
       "      <td>3</td>\n",
       "      <td>0</td>\n",
       "      <td>2.0</td>\n",
       "      <td>0</td>\n",
       "      <td>0</td>\n",
       "      <td>373450</td>\n",
       "      <td>8.0500</td>\n",
       "      <td>NaN</td>\n",
       "      <td>0</td>\n",
       "      <td>0</td>\n",
       "    </tr>\n",
       "  </tbody>\n",
       "</table>\n",
       "</div>"
      ],
      "text/plain": [
       "   PassengerId  Survived  Pclass  Sex  Age  SibSp  Parch            Ticket  \\\n",
       "0            1         0       3    0  1.0      1      0         A/5 21171   \n",
       "1            2         1       1    1  2.0      1      0          PC 17599   \n",
       "2            3         1       3    1  1.0      0      0  STON/O2. 3101282   \n",
       "3            4         1       1    1  2.0      1      0            113803   \n",
       "4            5         0       3    0  2.0      0      0            373450   \n",
       "\n",
       "      Fare Cabin  Embarked  Title  \n",
       "0   7.2500   NaN         0      0  \n",
       "1  71.2833   C85         1      2  \n",
       "2   7.9250   NaN         0      1  \n",
       "3  53.1000  C123         0      2  \n",
       "4   8.0500   NaN         0      0  "
      ]
     },
     "execution_count": 40,
     "metadata": {},
     "output_type": "execute_result"
    }
   ],
   "source": [
    "#Filling missing values in Fare attribute with median of Pclass\n",
    "training[\"Fare\"].fillna(training.groupby(\"Pclass\")[\"Fare\"].transform(\"median\"), inplace=True)\n",
    "testing[\"Fare\"].fillna(testing.groupby(\"Pclass\")[\"Fare\"].transform(\"median\"), inplace=True)\n",
    "training.head(5)"
   ]
  },
  {
   "cell_type": "code",
   "execution_count": 41,
   "id": "0ff1a2e8",
   "metadata": {
    "execution": {
     "iopub.execute_input": "2022-09-18T22:14:38.103815Z",
     "iopub.status.busy": "2022-09-18T22:14:38.103408Z",
     "iopub.status.idle": "2022-09-18T22:14:38.119284Z",
     "shell.execute_reply": "2022-09-18T22:14:38.117889Z"
    },
    "papermill": {
     "duration": 0.042265,
     "end_time": "2022-09-18T22:14:38.121882",
     "exception": false,
     "start_time": "2022-09-18T22:14:38.079617",
     "status": "completed"
    },
    "tags": []
   },
   "outputs": [
    {
     "data": {
      "text/plain": [
       "<bound method DataFrame.info of      PassengerId  Survived  Pclass  Sex  Age  SibSp  Parch            Ticket  \\\n",
       "0              1         0       3    0  1.0      1      0         A/5 21171   \n",
       "1              2         1       1    1  2.0      1      0          PC 17599   \n",
       "2              3         1       3    1  1.0      0      0  STON/O2. 3101282   \n",
       "3              4         1       1    1  2.0      1      0            113803   \n",
       "4              5         0       3    0  2.0      0      0            373450   \n",
       "..           ...       ...     ...  ...  ...    ...    ...               ...   \n",
       "886          887         0       2    0  1.0      0      0            211536   \n",
       "887          888         1       1    1  0.0      0      0            112053   \n",
       "888          889         0       3    1  1.0      1      2        W./C. 6607   \n",
       "889          890         1       1    0  1.0      0      0            111369   \n",
       "890          891         0       3    0  2.0      0      0            370376   \n",
       "\n",
       "        Fare Cabin  Embarked  Title  \n",
       "0     7.2500   NaN         0      0  \n",
       "1    71.2833   C85         1      2  \n",
       "2     7.9250   NaN         0      1  \n",
       "3    53.1000  C123         0      2  \n",
       "4     8.0500   NaN         0      0  \n",
       "..       ...   ...       ...    ...  \n",
       "886  13.0000   NaN         0      3  \n",
       "887  30.0000   B42         0      1  \n",
       "888  23.4500   NaN         0      1  \n",
       "889  30.0000  C148         1      0  \n",
       "890   7.7500   NaN         2      0  \n",
       "\n",
       "[891 rows x 12 columns]>"
      ]
     },
     "execution_count": 41,
     "metadata": {},
     "output_type": "execute_result"
    }
   ],
   "source": [
    "training.info"
   ]
  },
  {
   "cell_type": "code",
   "execution_count": 42,
   "id": "8d538358",
   "metadata": {
    "execution": {
     "iopub.execute_input": "2022-09-18T22:14:38.168997Z",
     "iopub.status.busy": "2022-09-18T22:14:38.168584Z",
     "iopub.status.idle": "2022-09-18T22:14:38.182975Z",
     "shell.execute_reply": "2022-09-18T22:14:38.181671Z"
    },
    "papermill": {
     "duration": 0.041686,
     "end_time": "2022-09-18T22:14:38.185848",
     "exception": false,
     "start_time": "2022-09-18T22:14:38.144162",
     "status": "completed"
    },
    "tags": []
   },
   "outputs": [],
   "source": [
    "  \n",
    "for data in training_testing_data:    \n",
    "    data.loc[ data['Fare'] <= 25, 'Fare'] = 0\n",
    "    data.loc[(data['Fare'] > 25) & (data['Fare'] <= 50), 'Fare'] = 1\n",
    "    data.loc[(data['Fare'] > 50) & (data['Fare'] <= 100), 'Fare'] = 2\n",
    "    data.loc[(data['Fare'] > 100), 'Fare'] = 3\n"
   ]
  },
  {
   "cell_type": "code",
   "execution_count": 43,
   "id": "8da8efd2",
   "metadata": {
    "execution": {
     "iopub.execute_input": "2022-09-18T22:14:38.234583Z",
     "iopub.status.busy": "2022-09-18T22:14:38.233941Z",
     "iopub.status.idle": "2022-09-18T22:14:38.250574Z",
     "shell.execute_reply": "2022-09-18T22:14:38.249299Z"
    },
    "papermill": {
     "duration": 0.043837,
     "end_time": "2022-09-18T22:14:38.252796",
     "exception": false,
     "start_time": "2022-09-18T22:14:38.208959",
     "status": "completed"
    },
    "tags": []
   },
   "outputs": [
    {
     "data": {
      "text/html": [
       "<div>\n",
       "<style scoped>\n",
       "    .dataframe tbody tr th:only-of-type {\n",
       "        vertical-align: middle;\n",
       "    }\n",
       "\n",
       "    .dataframe tbody tr th {\n",
       "        vertical-align: top;\n",
       "    }\n",
       "\n",
       "    .dataframe thead th {\n",
       "        text-align: right;\n",
       "    }\n",
       "</style>\n",
       "<table border=\"1\" class=\"dataframe\">\n",
       "  <thead>\n",
       "    <tr style=\"text-align: right;\">\n",
       "      <th></th>\n",
       "      <th>PassengerId</th>\n",
       "      <th>Survived</th>\n",
       "      <th>Pclass</th>\n",
       "      <th>Sex</th>\n",
       "      <th>Age</th>\n",
       "      <th>SibSp</th>\n",
       "      <th>Parch</th>\n",
       "      <th>Ticket</th>\n",
       "      <th>Fare</th>\n",
       "      <th>Cabin</th>\n",
       "      <th>Embarked</th>\n",
       "      <th>Title</th>\n",
       "    </tr>\n",
       "  </thead>\n",
       "  <tbody>\n",
       "    <tr>\n",
       "      <th>0</th>\n",
       "      <td>1</td>\n",
       "      <td>0</td>\n",
       "      <td>3</td>\n",
       "      <td>0</td>\n",
       "      <td>1.0</td>\n",
       "      <td>1</td>\n",
       "      <td>0</td>\n",
       "      <td>A/5 21171</td>\n",
       "      <td>0.0</td>\n",
       "      <td>NaN</td>\n",
       "      <td>0</td>\n",
       "      <td>0</td>\n",
       "    </tr>\n",
       "    <tr>\n",
       "      <th>1</th>\n",
       "      <td>2</td>\n",
       "      <td>1</td>\n",
       "      <td>1</td>\n",
       "      <td>1</td>\n",
       "      <td>2.0</td>\n",
       "      <td>1</td>\n",
       "      <td>0</td>\n",
       "      <td>PC 17599</td>\n",
       "      <td>2.0</td>\n",
       "      <td>C85</td>\n",
       "      <td>1</td>\n",
       "      <td>2</td>\n",
       "    </tr>\n",
       "    <tr>\n",
       "      <th>2</th>\n",
       "      <td>3</td>\n",
       "      <td>1</td>\n",
       "      <td>3</td>\n",
       "      <td>1</td>\n",
       "      <td>1.0</td>\n",
       "      <td>0</td>\n",
       "      <td>0</td>\n",
       "      <td>STON/O2. 3101282</td>\n",
       "      <td>0.0</td>\n",
       "      <td>NaN</td>\n",
       "      <td>0</td>\n",
       "      <td>1</td>\n",
       "    </tr>\n",
       "    <tr>\n",
       "      <th>3</th>\n",
       "      <td>4</td>\n",
       "      <td>1</td>\n",
       "      <td>1</td>\n",
       "      <td>1</td>\n",
       "      <td>2.0</td>\n",
       "      <td>1</td>\n",
       "      <td>0</td>\n",
       "      <td>113803</td>\n",
       "      <td>2.0</td>\n",
       "      <td>C123</td>\n",
       "      <td>0</td>\n",
       "      <td>2</td>\n",
       "    </tr>\n",
       "    <tr>\n",
       "      <th>4</th>\n",
       "      <td>5</td>\n",
       "      <td>0</td>\n",
       "      <td>3</td>\n",
       "      <td>0</td>\n",
       "      <td>2.0</td>\n",
       "      <td>0</td>\n",
       "      <td>0</td>\n",
       "      <td>373450</td>\n",
       "      <td>0.0</td>\n",
       "      <td>NaN</td>\n",
       "      <td>0</td>\n",
       "      <td>0</td>\n",
       "    </tr>\n",
       "  </tbody>\n",
       "</table>\n",
       "</div>"
      ],
      "text/plain": [
       "   PassengerId  Survived  Pclass  Sex  Age  SibSp  Parch            Ticket  \\\n",
       "0            1         0       3    0  1.0      1      0         A/5 21171   \n",
       "1            2         1       1    1  2.0      1      0          PC 17599   \n",
       "2            3         1       3    1  1.0      0      0  STON/O2. 3101282   \n",
       "3            4         1       1    1  2.0      1      0            113803   \n",
       "4            5         0       3    0  2.0      0      0            373450   \n",
       "\n",
       "   Fare Cabin  Embarked  Title  \n",
       "0   0.0   NaN         0      0  \n",
       "1   2.0   C85         1      2  \n",
       "2   0.0   NaN         0      1  \n",
       "3   2.0  C123         0      2  \n",
       "4   0.0   NaN         0      0  "
      ]
     },
     "execution_count": 43,
     "metadata": {},
     "output_type": "execute_result"
    }
   ],
   "source": [
    "training.head()"
   ]
  },
  {
   "cell_type": "code",
   "execution_count": 44,
   "id": "78b75cda",
   "metadata": {
    "execution": {
     "iopub.execute_input": "2022-09-18T22:14:38.299487Z",
     "iopub.status.busy": "2022-09-18T22:14:38.299080Z",
     "iopub.status.idle": "2022-09-18T22:14:38.307824Z",
     "shell.execute_reply": "2022-09-18T22:14:38.306884Z"
    },
    "papermill": {
     "duration": 0.035048,
     "end_time": "2022-09-18T22:14:38.309904",
     "exception": false,
     "start_time": "2022-09-18T22:14:38.274856",
     "status": "completed"
    },
    "tags": []
   },
   "outputs": [
    {
     "data": {
      "text/plain": [
       "B96 B98        4\n",
       "G6             4\n",
       "C23 C25 C27    4\n",
       "C22 C26        3\n",
       "F33            3\n",
       "              ..\n",
       "E34            1\n",
       "C7             1\n",
       "C54            1\n",
       "E36            1\n",
       "C148           1\n",
       "Name: Cabin, Length: 147, dtype: int64"
      ]
     },
     "execution_count": 44,
     "metadata": {},
     "output_type": "execute_result"
    }
   ],
   "source": [
    "training.Cabin.value_counts()"
   ]
  },
  {
   "cell_type": "code",
   "execution_count": 45,
   "id": "c98092a6",
   "metadata": {
    "execution": {
     "iopub.execute_input": "2022-09-18T22:14:38.360109Z",
     "iopub.status.busy": "2022-09-18T22:14:38.358840Z",
     "iopub.status.idle": "2022-09-18T22:14:38.366396Z",
     "shell.execute_reply": "2022-09-18T22:14:38.365189Z"
    },
    "papermill": {
     "duration": 0.034624,
     "end_time": "2022-09-18T22:14:38.368871",
     "exception": false,
     "start_time": "2022-09-18T22:14:38.334247",
     "status": "completed"
    },
    "tags": []
   },
   "outputs": [],
   "source": [
    "#extracting just first character from Cabin values\n",
    "for data in training_testing_data:\n",
    "    data['Cabin'] = data['Cabin'].str[:1]"
   ]
  },
  {
   "cell_type": "code",
   "execution_count": 46,
   "id": "24041614",
   "metadata": {
    "execution": {
     "iopub.execute_input": "2022-09-18T22:14:38.416770Z",
     "iopub.status.busy": "2022-09-18T22:14:38.416366Z",
     "iopub.status.idle": "2022-09-18T22:14:38.426366Z",
     "shell.execute_reply": "2022-09-18T22:14:38.424917Z"
    },
    "papermill": {
     "duration": 0.036846,
     "end_time": "2022-09-18T22:14:38.428868",
     "exception": false,
     "start_time": "2022-09-18T22:14:38.392022",
     "status": "completed"
    },
    "tags": []
   },
   "outputs": [],
   "source": [
    "cabin_mapping = {\"A\": 0, \"B\": 1, \"C\": 2, \"D\": 3, \"E\": 4, \"F\": 5, \"G\": 6, \"T\": 7}\n",
    "for data in training_testing_data:\n",
    "    data['Cabin'] = data['Cabin'].map(cabin_mapping)"
   ]
  },
  {
   "cell_type": "code",
   "execution_count": 47,
   "id": "c5f896d3",
   "metadata": {
    "execution": {
     "iopub.execute_input": "2022-09-18T22:14:38.475415Z",
     "iopub.status.busy": "2022-09-18T22:14:38.475022Z",
     "iopub.status.idle": "2022-09-18T22:14:38.485180Z",
     "shell.execute_reply": "2022-09-18T22:14:38.483679Z"
    },
    "papermill": {
     "duration": 0.036693,
     "end_time": "2022-09-18T22:14:38.487746",
     "exception": false,
     "start_time": "2022-09-18T22:14:38.451053",
     "status": "completed"
    },
    "tags": []
   },
   "outputs": [],
   "source": [
    "training[\"Cabin\"].fillna(training.groupby(\"Pclass\")[\"Cabin\"].transform(\"median\"), inplace=True)\n",
    "testing[\"Cabin\"].fillna(testing.groupby(\"Pclass\")[\"Cabin\"].transform(\"median\"), inplace=True)"
   ]
  },
  {
   "cell_type": "code",
   "execution_count": 48,
   "id": "5a0bf0fe",
   "metadata": {
    "execution": {
     "iopub.execute_input": "2022-09-18T22:14:38.534342Z",
     "iopub.status.busy": "2022-09-18T22:14:38.533931Z",
     "iopub.status.idle": "2022-09-18T22:14:38.550390Z",
     "shell.execute_reply": "2022-09-18T22:14:38.549171Z"
    },
    "papermill": {
     "duration": 0.042384,
     "end_time": "2022-09-18T22:14:38.552671",
     "exception": false,
     "start_time": "2022-09-18T22:14:38.510287",
     "status": "completed"
    },
    "tags": []
   },
   "outputs": [
    {
     "data": {
      "text/html": [
       "<div>\n",
       "<style scoped>\n",
       "    .dataframe tbody tr th:only-of-type {\n",
       "        vertical-align: middle;\n",
       "    }\n",
       "\n",
       "    .dataframe tbody tr th {\n",
       "        vertical-align: top;\n",
       "    }\n",
       "\n",
       "    .dataframe thead th {\n",
       "        text-align: right;\n",
       "    }\n",
       "</style>\n",
       "<table border=\"1\" class=\"dataframe\">\n",
       "  <thead>\n",
       "    <tr style=\"text-align: right;\">\n",
       "      <th></th>\n",
       "      <th>PassengerId</th>\n",
       "      <th>Survived</th>\n",
       "      <th>Pclass</th>\n",
       "      <th>Sex</th>\n",
       "      <th>Age</th>\n",
       "      <th>SibSp</th>\n",
       "      <th>Parch</th>\n",
       "      <th>Ticket</th>\n",
       "      <th>Fare</th>\n",
       "      <th>Cabin</th>\n",
       "      <th>Embarked</th>\n",
       "      <th>Title</th>\n",
       "    </tr>\n",
       "  </thead>\n",
       "  <tbody>\n",
       "    <tr>\n",
       "      <th>0</th>\n",
       "      <td>1</td>\n",
       "      <td>0</td>\n",
       "      <td>3</td>\n",
       "      <td>0</td>\n",
       "      <td>1.0</td>\n",
       "      <td>1</td>\n",
       "      <td>0</td>\n",
       "      <td>A/5 21171</td>\n",
       "      <td>0.0</td>\n",
       "      <td>5.0</td>\n",
       "      <td>0</td>\n",
       "      <td>0</td>\n",
       "    </tr>\n",
       "    <tr>\n",
       "      <th>1</th>\n",
       "      <td>2</td>\n",
       "      <td>1</td>\n",
       "      <td>1</td>\n",
       "      <td>1</td>\n",
       "      <td>2.0</td>\n",
       "      <td>1</td>\n",
       "      <td>0</td>\n",
       "      <td>PC 17599</td>\n",
       "      <td>2.0</td>\n",
       "      <td>2.0</td>\n",
       "      <td>1</td>\n",
       "      <td>2</td>\n",
       "    </tr>\n",
       "    <tr>\n",
       "      <th>2</th>\n",
       "      <td>3</td>\n",
       "      <td>1</td>\n",
       "      <td>3</td>\n",
       "      <td>1</td>\n",
       "      <td>1.0</td>\n",
       "      <td>0</td>\n",
       "      <td>0</td>\n",
       "      <td>STON/O2. 3101282</td>\n",
       "      <td>0.0</td>\n",
       "      <td>5.0</td>\n",
       "      <td>0</td>\n",
       "      <td>1</td>\n",
       "    </tr>\n",
       "    <tr>\n",
       "      <th>3</th>\n",
       "      <td>4</td>\n",
       "      <td>1</td>\n",
       "      <td>1</td>\n",
       "      <td>1</td>\n",
       "      <td>2.0</td>\n",
       "      <td>1</td>\n",
       "      <td>0</td>\n",
       "      <td>113803</td>\n",
       "      <td>2.0</td>\n",
       "      <td>2.0</td>\n",
       "      <td>0</td>\n",
       "      <td>2</td>\n",
       "    </tr>\n",
       "    <tr>\n",
       "      <th>4</th>\n",
       "      <td>5</td>\n",
       "      <td>0</td>\n",
       "      <td>3</td>\n",
       "      <td>0</td>\n",
       "      <td>2.0</td>\n",
       "      <td>0</td>\n",
       "      <td>0</td>\n",
       "      <td>373450</td>\n",
       "      <td>0.0</td>\n",
       "      <td>5.0</td>\n",
       "      <td>0</td>\n",
       "      <td>0</td>\n",
       "    </tr>\n",
       "  </tbody>\n",
       "</table>\n",
       "</div>"
      ],
      "text/plain": [
       "   PassengerId  Survived  Pclass  Sex  Age  SibSp  Parch            Ticket  \\\n",
       "0            1         0       3    0  1.0      1      0         A/5 21171   \n",
       "1            2         1       1    1  2.0      1      0          PC 17599   \n",
       "2            3         1       3    1  1.0      0      0  STON/O2. 3101282   \n",
       "3            4         1       1    1  2.0      1      0            113803   \n",
       "4            5         0       3    0  2.0      0      0            373450   \n",
       "\n",
       "   Fare  Cabin  Embarked  Title  \n",
       "0   0.0    5.0         0      0  \n",
       "1   2.0    2.0         1      2  \n",
       "2   0.0    5.0         0      1  \n",
       "3   2.0    2.0         0      2  \n",
       "4   0.0    5.0         0      0  "
      ]
     },
     "execution_count": 48,
     "metadata": {},
     "output_type": "execute_result"
    }
   ],
   "source": [
    "training.head()"
   ]
  },
  {
   "cell_type": "code",
   "execution_count": 49,
   "id": "7c2b1682",
   "metadata": {
    "execution": {
     "iopub.execute_input": "2022-09-18T22:14:38.600752Z",
     "iopub.status.busy": "2022-09-18T22:14:38.600274Z",
     "iopub.status.idle": "2022-09-18T22:14:38.609084Z",
     "shell.execute_reply": "2022-09-18T22:14:38.607959Z"
    },
    "papermill": {
     "duration": 0.036239,
     "end_time": "2022-09-18T22:14:38.611429",
     "exception": false,
     "start_time": "2022-09-18T22:14:38.575190",
     "status": "completed"
    },
    "tags": []
   },
   "outputs": [],
   "source": [
    "#Creating new feature called 'FamilySize'\n",
    "training[\"FamilySize\"] = training[\"SibSp\"] + training[\"Parch\"] + 1\n",
    "testing[\"FamilySize\"] = testing[\"SibSp\"] + testing[\"Parch\"] + 1"
   ]
  },
  {
   "cell_type": "code",
   "execution_count": 50,
   "id": "a1212412",
   "metadata": {
    "execution": {
     "iopub.execute_input": "2022-09-18T22:14:38.660133Z",
     "iopub.status.busy": "2022-09-18T22:14:38.659713Z",
     "iopub.status.idle": "2022-09-18T22:14:38.668582Z",
     "shell.execute_reply": "2022-09-18T22:14:38.667220Z"
    },
    "papermill": {
     "duration": 0.036712,
     "end_time": "2022-09-18T22:14:38.671289",
     "exception": false,
     "start_time": "2022-09-18T22:14:38.634577",
     "status": "completed"
    },
    "tags": []
   },
   "outputs": [],
   "source": [
    "family_mapping = {1: 0, 2: 0.5, 3: 1, 4: 1.5, 5: 2, 6: 2.5, 7: 3, 8: 3.5, 9: 4, 10: 4.5, 11: 5}\n",
    "for data in training_testing_data:\n",
    "    data['FamilySize'] = data['FamilySize'].map(family_mapping)"
   ]
  },
  {
   "cell_type": "code",
   "execution_count": 51,
   "id": "27e0ab53",
   "metadata": {
    "execution": {
     "iopub.execute_input": "2022-09-18T22:14:38.722168Z",
     "iopub.status.busy": "2022-09-18T22:14:38.721647Z",
     "iopub.status.idle": "2022-09-18T22:14:38.743765Z",
     "shell.execute_reply": "2022-09-18T22:14:38.741970Z"
    },
    "papermill": {
     "duration": 0.050513,
     "end_time": "2022-09-18T22:14:38.746569",
     "exception": false,
     "start_time": "2022-09-18T22:14:38.696056",
     "status": "completed"
    },
    "tags": []
   },
   "outputs": [
    {
     "data": {
      "text/html": [
       "<div>\n",
       "<style scoped>\n",
       "    .dataframe tbody tr th:only-of-type {\n",
       "        vertical-align: middle;\n",
       "    }\n",
       "\n",
       "    .dataframe tbody tr th {\n",
       "        vertical-align: top;\n",
       "    }\n",
       "\n",
       "    .dataframe thead th {\n",
       "        text-align: right;\n",
       "    }\n",
       "</style>\n",
       "<table border=\"1\" class=\"dataframe\">\n",
       "  <thead>\n",
       "    <tr style=\"text-align: right;\">\n",
       "      <th></th>\n",
       "      <th>PassengerId</th>\n",
       "      <th>Survived</th>\n",
       "      <th>Pclass</th>\n",
       "      <th>Sex</th>\n",
       "      <th>Age</th>\n",
       "      <th>SibSp</th>\n",
       "      <th>Parch</th>\n",
       "      <th>Ticket</th>\n",
       "      <th>Fare</th>\n",
       "      <th>Cabin</th>\n",
       "      <th>Embarked</th>\n",
       "      <th>Title</th>\n",
       "      <th>FamilySize</th>\n",
       "    </tr>\n",
       "  </thead>\n",
       "  <tbody>\n",
       "    <tr>\n",
       "      <th>0</th>\n",
       "      <td>1</td>\n",
       "      <td>0</td>\n",
       "      <td>3</td>\n",
       "      <td>0</td>\n",
       "      <td>1.0</td>\n",
       "      <td>1</td>\n",
       "      <td>0</td>\n",
       "      <td>A/5 21171</td>\n",
       "      <td>0.0</td>\n",
       "      <td>5.0</td>\n",
       "      <td>0</td>\n",
       "      <td>0</td>\n",
       "      <td>0.5</td>\n",
       "    </tr>\n",
       "    <tr>\n",
       "      <th>1</th>\n",
       "      <td>2</td>\n",
       "      <td>1</td>\n",
       "      <td>1</td>\n",
       "      <td>1</td>\n",
       "      <td>2.0</td>\n",
       "      <td>1</td>\n",
       "      <td>0</td>\n",
       "      <td>PC 17599</td>\n",
       "      <td>2.0</td>\n",
       "      <td>2.0</td>\n",
       "      <td>1</td>\n",
       "      <td>2</td>\n",
       "      <td>0.5</td>\n",
       "    </tr>\n",
       "    <tr>\n",
       "      <th>2</th>\n",
       "      <td>3</td>\n",
       "      <td>1</td>\n",
       "      <td>3</td>\n",
       "      <td>1</td>\n",
       "      <td>1.0</td>\n",
       "      <td>0</td>\n",
       "      <td>0</td>\n",
       "      <td>STON/O2. 3101282</td>\n",
       "      <td>0.0</td>\n",
       "      <td>5.0</td>\n",
       "      <td>0</td>\n",
       "      <td>1</td>\n",
       "      <td>0.0</td>\n",
       "    </tr>\n",
       "    <tr>\n",
       "      <th>3</th>\n",
       "      <td>4</td>\n",
       "      <td>1</td>\n",
       "      <td>1</td>\n",
       "      <td>1</td>\n",
       "      <td>2.0</td>\n",
       "      <td>1</td>\n",
       "      <td>0</td>\n",
       "      <td>113803</td>\n",
       "      <td>2.0</td>\n",
       "      <td>2.0</td>\n",
       "      <td>0</td>\n",
       "      <td>2</td>\n",
       "      <td>0.5</td>\n",
       "    </tr>\n",
       "    <tr>\n",
       "      <th>4</th>\n",
       "      <td>5</td>\n",
       "      <td>0</td>\n",
       "      <td>3</td>\n",
       "      <td>0</td>\n",
       "      <td>2.0</td>\n",
       "      <td>0</td>\n",
       "      <td>0</td>\n",
       "      <td>373450</td>\n",
       "      <td>0.0</td>\n",
       "      <td>5.0</td>\n",
       "      <td>0</td>\n",
       "      <td>0</td>\n",
       "      <td>0.0</td>\n",
       "    </tr>\n",
       "  </tbody>\n",
       "</table>\n",
       "</div>"
      ],
      "text/plain": [
       "   PassengerId  Survived  Pclass  Sex  Age  SibSp  Parch            Ticket  \\\n",
       "0            1         0       3    0  1.0      1      0         A/5 21171   \n",
       "1            2         1       1    1  2.0      1      0          PC 17599   \n",
       "2            3         1       3    1  1.0      0      0  STON/O2. 3101282   \n",
       "3            4         1       1    1  2.0      1      0            113803   \n",
       "4            5         0       3    0  2.0      0      0            373450   \n",
       "\n",
       "   Fare  Cabin  Embarked  Title  FamilySize  \n",
       "0   0.0    5.0         0      0         0.5  \n",
       "1   2.0    2.0         1      2         0.5  \n",
       "2   0.0    5.0         0      1         0.0  \n",
       "3   2.0    2.0         0      2         0.5  \n",
       "4   0.0    5.0         0      0         0.0  "
      ]
     },
     "execution_count": 51,
     "metadata": {},
     "output_type": "execute_result"
    }
   ],
   "source": [
    "training.head()"
   ]
  },
  {
   "cell_type": "code",
   "execution_count": 52,
   "id": "e1fd58d0",
   "metadata": {
    "execution": {
     "iopub.execute_input": "2022-09-18T22:14:38.799792Z",
     "iopub.status.busy": "2022-09-18T22:14:38.797892Z",
     "iopub.status.idle": "2022-09-18T22:14:38.812828Z",
     "shell.execute_reply": "2022-09-18T22:14:38.811070Z"
    },
    "papermill": {
     "duration": 0.044565,
     "end_time": "2022-09-18T22:14:38.816263",
     "exception": false,
     "start_time": "2022-09-18T22:14:38.771698",
     "status": "completed"
    },
    "tags": []
   },
   "outputs": [],
   "source": [
    "attributes_drop = ['Ticket', 'SibSp', 'Parch']\n",
    "training = training.drop(attributes_drop, axis=1)\n",
    "testing = testing.drop(attributes_drop, axis=1)\n",
    "training = training.drop(['PassengerId'], axis=1)"
   ]
  },
  {
   "cell_type": "code",
   "execution_count": 53,
   "id": "1736ccd1",
   "metadata": {
    "execution": {
     "iopub.execute_input": "2022-09-18T22:14:38.865624Z",
     "iopub.status.busy": "2022-09-18T22:14:38.865205Z",
     "iopub.status.idle": "2022-09-18T22:14:38.876300Z",
     "shell.execute_reply": "2022-09-18T22:14:38.874932Z"
    },
    "papermill": {
     "duration": 0.038554,
     "end_time": "2022-09-18T22:14:38.878794",
     "exception": false,
     "start_time": "2022-09-18T22:14:38.840240",
     "status": "completed"
    },
    "tags": []
   },
   "outputs": [
    {
     "data": {
      "text/plain": [
       "((891, 8), (891,), (418, 8))"
      ]
     },
     "execution_count": 53,
     "metadata": {},
     "output_type": "execute_result"
    }
   ],
   "source": [
    "training_data = training.drop('Survived', axis=1)\n",
    "target_data = training['Survived']\n",
    "X_test = testing.drop(\"PassengerId\", axis=1).copy()\n",
    "training_data.shape, target_data.shape, X_test.shape"
   ]
  },
  {
   "cell_type": "code",
   "execution_count": 54,
   "id": "591283ab",
   "metadata": {
    "execution": {
     "iopub.execute_input": "2022-09-18T22:14:38.928635Z",
     "iopub.status.busy": "2022-09-18T22:14:38.928233Z",
     "iopub.status.idle": "2022-09-18T22:14:38.948566Z",
     "shell.execute_reply": "2022-09-18T22:14:38.947052Z"
    },
    "papermill": {
     "duration": 0.049174,
     "end_time": "2022-09-18T22:14:38.951491",
     "exception": false,
     "start_time": "2022-09-18T22:14:38.902317",
     "status": "completed"
    },
    "tags": []
   },
   "outputs": [
    {
     "data": {
      "text/html": [
       "<div>\n",
       "<style scoped>\n",
       "    .dataframe tbody tr th:only-of-type {\n",
       "        vertical-align: middle;\n",
       "    }\n",
       "\n",
       "    .dataframe tbody tr th {\n",
       "        vertical-align: top;\n",
       "    }\n",
       "\n",
       "    .dataframe thead th {\n",
       "        text-align: right;\n",
       "    }\n",
       "</style>\n",
       "<table border=\"1\" class=\"dataframe\">\n",
       "  <thead>\n",
       "    <tr style=\"text-align: right;\">\n",
       "      <th></th>\n",
       "      <th>Survived</th>\n",
       "      <th>Pclass</th>\n",
       "      <th>Sex</th>\n",
       "      <th>Age</th>\n",
       "      <th>Fare</th>\n",
       "      <th>Cabin</th>\n",
       "      <th>Embarked</th>\n",
       "      <th>Title</th>\n",
       "      <th>FamilySize</th>\n",
       "    </tr>\n",
       "  </thead>\n",
       "  <tbody>\n",
       "    <tr>\n",
       "      <th>0</th>\n",
       "      <td>0</td>\n",
       "      <td>3</td>\n",
       "      <td>0</td>\n",
       "      <td>1.0</td>\n",
       "      <td>0.0</td>\n",
       "      <td>5.0</td>\n",
       "      <td>0</td>\n",
       "      <td>0</td>\n",
       "      <td>0.5</td>\n",
       "    </tr>\n",
       "    <tr>\n",
       "      <th>1</th>\n",
       "      <td>1</td>\n",
       "      <td>1</td>\n",
       "      <td>1</td>\n",
       "      <td>2.0</td>\n",
       "      <td>2.0</td>\n",
       "      <td>2.0</td>\n",
       "      <td>1</td>\n",
       "      <td>2</td>\n",
       "      <td>0.5</td>\n",
       "    </tr>\n",
       "    <tr>\n",
       "      <th>2</th>\n",
       "      <td>1</td>\n",
       "      <td>3</td>\n",
       "      <td>1</td>\n",
       "      <td>1.0</td>\n",
       "      <td>0.0</td>\n",
       "      <td>5.0</td>\n",
       "      <td>0</td>\n",
       "      <td>1</td>\n",
       "      <td>0.0</td>\n",
       "    </tr>\n",
       "    <tr>\n",
       "      <th>3</th>\n",
       "      <td>1</td>\n",
       "      <td>1</td>\n",
       "      <td>1</td>\n",
       "      <td>2.0</td>\n",
       "      <td>2.0</td>\n",
       "      <td>2.0</td>\n",
       "      <td>0</td>\n",
       "      <td>2</td>\n",
       "      <td>0.5</td>\n",
       "    </tr>\n",
       "    <tr>\n",
       "      <th>4</th>\n",
       "      <td>0</td>\n",
       "      <td>3</td>\n",
       "      <td>0</td>\n",
       "      <td>2.0</td>\n",
       "      <td>0.0</td>\n",
       "      <td>5.0</td>\n",
       "      <td>0</td>\n",
       "      <td>0</td>\n",
       "      <td>0.0</td>\n",
       "    </tr>\n",
       "    <tr>\n",
       "      <th>5</th>\n",
       "      <td>0</td>\n",
       "      <td>3</td>\n",
       "      <td>0</td>\n",
       "      <td>1.0</td>\n",
       "      <td>0.0</td>\n",
       "      <td>5.0</td>\n",
       "      <td>2</td>\n",
       "      <td>0</td>\n",
       "      <td>0.0</td>\n",
       "    </tr>\n",
       "    <tr>\n",
       "      <th>6</th>\n",
       "      <td>0</td>\n",
       "      <td>1</td>\n",
       "      <td>0</td>\n",
       "      <td>3.0</td>\n",
       "      <td>2.0</td>\n",
       "      <td>4.0</td>\n",
       "      <td>0</td>\n",
       "      <td>0</td>\n",
       "      <td>0.0</td>\n",
       "    </tr>\n",
       "    <tr>\n",
       "      <th>7</th>\n",
       "      <td>0</td>\n",
       "      <td>3</td>\n",
       "      <td>0</td>\n",
       "      <td>0.0</td>\n",
       "      <td>0.0</td>\n",
       "      <td>5.0</td>\n",
       "      <td>0</td>\n",
       "      <td>0</td>\n",
       "      <td>2.0</td>\n",
       "    </tr>\n",
       "    <tr>\n",
       "      <th>8</th>\n",
       "      <td>1</td>\n",
       "      <td>3</td>\n",
       "      <td>1</td>\n",
       "      <td>1.0</td>\n",
       "      <td>0.0</td>\n",
       "      <td>5.0</td>\n",
       "      <td>0</td>\n",
       "      <td>2</td>\n",
       "      <td>1.0</td>\n",
       "    </tr>\n",
       "    <tr>\n",
       "      <th>9</th>\n",
       "      <td>1</td>\n",
       "      <td>2</td>\n",
       "      <td>1</td>\n",
       "      <td>0.0</td>\n",
       "      <td>1.0</td>\n",
       "      <td>4.5</td>\n",
       "      <td>1</td>\n",
       "      <td>2</td>\n",
       "      <td>0.5</td>\n",
       "    </tr>\n",
       "  </tbody>\n",
       "</table>\n",
       "</div>"
      ],
      "text/plain": [
       "   Survived  Pclass  Sex  Age  Fare  Cabin  Embarked  Title  FamilySize\n",
       "0         0       3    0  1.0   0.0    5.0         0      0         0.5\n",
       "1         1       1    1  2.0   2.0    2.0         1      2         0.5\n",
       "2         1       3    1  1.0   0.0    5.0         0      1         0.0\n",
       "3         1       1    1  2.0   2.0    2.0         0      2         0.5\n",
       "4         0       3    0  2.0   0.0    5.0         0      0         0.0\n",
       "5         0       3    0  1.0   0.0    5.0         2      0         0.0\n",
       "6         0       1    0  3.0   2.0    4.0         0      0         0.0\n",
       "7         0       3    0  0.0   0.0    5.0         0      0         2.0\n",
       "8         1       3    1  1.0   0.0    5.0         0      2         1.0\n",
       "9         1       2    1  0.0   1.0    4.5         1      2         0.5"
      ]
     },
     "execution_count": 54,
     "metadata": {},
     "output_type": "execute_result"
    }
   ],
   "source": [
    "training.head(10)"
   ]
  },
  {
   "cell_type": "code",
   "execution_count": 55,
   "id": "a6cc0a93",
   "metadata": {
    "execution": {
     "iopub.execute_input": "2022-09-18T22:14:39.000460Z",
     "iopub.status.busy": "2022-09-18T22:14:39.000034Z",
     "iopub.status.idle": "2022-09-18T22:14:39.005039Z",
     "shell.execute_reply": "2022-09-18T22:14:39.003883Z"
    },
    "papermill": {
     "duration": 0.033146,
     "end_time": "2022-09-18T22:14:39.008072",
     "exception": false,
     "start_time": "2022-09-18T22:14:38.974926",
     "status": "completed"
    },
    "tags": []
   },
   "outputs": [],
   "source": [
    "from sklearn.metrics import accuracy_score"
   ]
  },
  {
   "cell_type": "code",
   "execution_count": 56,
   "id": "af66b3b8",
   "metadata": {
    "execution": {
     "iopub.execute_input": "2022-09-18T22:14:39.057122Z",
     "iopub.status.busy": "2022-09-18T22:14:39.056476Z",
     "iopub.status.idle": "2022-09-18T22:14:39.151712Z",
     "shell.execute_reply": "2022-09-18T22:14:39.150403Z"
    },
    "papermill": {
     "duration": 0.123205,
     "end_time": "2022-09-18T22:14:39.154485",
     "exception": false,
     "start_time": "2022-09-18T22:14:39.031280",
     "status": "completed"
    },
    "tags": []
   },
   "outputs": [
    {
     "data": {
      "text/plain": [
       "86.98"
      ]
     },
     "execution_count": 56,
     "metadata": {},
     "output_type": "execute_result"
    }
   ],
   "source": [
    "svc = SVC(C = 100,kernel = 'rbf', gamma = 'auto')\n",
    "svc.fit(training_data, target_data)\n",
    "acc_svc = round(svc.score(training_data, target_data) * 100, 2)\n",
    "acc_svc\n"
   ]
  },
  {
   "cell_type": "code",
   "execution_count": 57,
   "id": "3609e29a",
   "metadata": {
    "execution": {
     "iopub.execute_input": "2022-09-18T22:14:39.203881Z",
     "iopub.status.busy": "2022-09-18T22:14:39.203476Z",
     "iopub.status.idle": "2022-09-18T22:14:39.222380Z",
     "shell.execute_reply": "2022-09-18T22:14:39.220910Z"
    },
    "papermill": {
     "duration": 0.04806,
     "end_time": "2022-09-18T22:14:39.226000",
     "exception": false,
     "start_time": "2022-09-18T22:14:39.177940",
     "status": "completed"
    },
    "tags": []
   },
   "outputs": [
    {
     "data": {
      "text/plain": [
       "72.17"
      ]
     },
     "execution_count": 57,
     "metadata": {},
     "output_type": "execute_result"
    }
   ],
   "source": [
    "perceptron = Perceptron()\n",
    "perceptron.fit(training_data, target_data)\n",
    "Y_pred = perceptron.predict(training_data)\n",
    "acc_perceptron = round(perceptron.score(training_data, target_data) * 100, 2)\n",
    "acc_perceptron"
   ]
  },
  {
   "cell_type": "code",
   "execution_count": 58,
   "id": "418d3862",
   "metadata": {
    "execution": {
     "iopub.execute_input": "2022-09-18T22:14:39.278183Z",
     "iopub.status.busy": "2022-09-18T22:14:39.276868Z",
     "iopub.status.idle": "2022-09-18T22:14:39.285199Z",
     "shell.execute_reply": "2022-09-18T22:14:39.284001Z"
    },
    "papermill": {
     "duration": 0.038199,
     "end_time": "2022-09-18T22:14:39.288037",
     "exception": false,
     "start_time": "2022-09-18T22:14:39.249838",
     "status": "completed"
    },
    "tags": []
   },
   "outputs": [
    {
     "data": {
      "text/plain": [
       "0.7216610549943884"
      ]
     },
     "execution_count": 58,
     "metadata": {},
     "output_type": "execute_result"
    }
   ],
   "source": [
    "accuracy_score(target_data, Y_pred)"
   ]
  },
  {
   "cell_type": "code",
   "execution_count": 59,
   "id": "72210277",
   "metadata": {
    "execution": {
     "iopub.execute_input": "2022-09-18T22:14:39.341505Z",
     "iopub.status.busy": "2022-09-18T22:14:39.340527Z",
     "iopub.status.idle": "2022-09-18T22:14:39.374874Z",
     "shell.execute_reply": "2022-09-18T22:14:39.373667Z"
    },
    "papermill": {
     "duration": 0.064269,
     "end_time": "2022-09-18T22:14:39.378102",
     "exception": false,
     "start_time": "2022-09-18T22:14:39.313833",
     "status": "completed"
    },
    "tags": []
   },
   "outputs": [
    {
     "data": {
      "text/plain": [
       "80.47"
      ]
     },
     "execution_count": 59,
     "metadata": {},
     "output_type": "execute_result"
    }
   ],
   "source": [
    "logreg = LogisticRegression()\n",
    "logreg.fit(training_data, target_data)\n",
    "Y_pred = logreg.predict(X_test)\n",
    "acc_log = round(logreg.score(training_data, target_data) * 100, 2)\n",
    "acc_log"
   ]
  },
  {
   "cell_type": "code",
   "execution_count": 60,
   "id": "f886120e",
   "metadata": {
    "execution": {
     "iopub.execute_input": "2022-09-18T22:14:39.430906Z",
     "iopub.status.busy": "2022-09-18T22:14:39.430062Z",
     "iopub.status.idle": "2022-09-18T22:14:39.449134Z",
     "shell.execute_reply": "2022-09-18T22:14:39.447924Z"
    },
    "papermill": {
     "duration": 0.047686,
     "end_time": "2022-09-18T22:14:39.451952",
     "exception": false,
     "start_time": "2022-09-18T22:14:39.404266",
     "status": "completed"
    },
    "tags": []
   },
   "outputs": [
    {
     "data": {
      "text/plain": [
       "77.55"
      ]
     },
     "execution_count": 60,
     "metadata": {},
     "output_type": "execute_result"
    }
   ],
   "source": [
    "sgd = SGDClassifier()\n",
    "sgd.fit(training_data, target_data)\n",
    "Y_pred = sgd.predict(X_test)\n",
    "acc_sgd = round(sgd.score(training_data, target_data) * 100, 2)\n",
    "acc_sgd"
   ]
  },
  {
   "cell_type": "code",
   "execution_count": 61,
   "id": "6c99daeb",
   "metadata": {
    "execution": {
     "iopub.execute_input": "2022-09-18T22:14:39.502710Z",
     "iopub.status.busy": "2022-09-18T22:14:39.501781Z",
     "iopub.status.idle": "2022-09-18T22:14:39.521777Z",
     "shell.execute_reply": "2022-09-18T22:14:39.520621Z"
    },
    "papermill": {
     "duration": 0.047954,
     "end_time": "2022-09-18T22:14:39.524580",
     "exception": false,
     "start_time": "2022-09-18T22:14:39.476626",
     "status": "completed"
    },
    "tags": []
   },
   "outputs": [
    {
     "data": {
      "text/plain": [
       "88.44"
      ]
     },
     "execution_count": 61,
     "metadata": {},
     "output_type": "execute_result"
    }
   ],
   "source": [
    "decision_tree = DecisionTreeClassifier()\n",
    "decision_tree.fit(training_data, target_data)\n",
    "Y_pred = decision_tree.predict(training_data)\n",
    "acc_decision_tree = round(decision_tree.score(training_data, target_data) * 100, 2)\n",
    "acc_decision_tree"
   ]
  },
  {
   "cell_type": "code",
   "execution_count": 62,
   "id": "061c8bb9",
   "metadata": {
    "execution": {
     "iopub.execute_input": "2022-09-18T22:14:39.578356Z",
     "iopub.status.busy": "2022-09-18T22:14:39.577912Z",
     "iopub.status.idle": "2022-09-18T22:14:39.587352Z",
     "shell.execute_reply": "2022-09-18T22:14:39.586187Z"
    },
    "papermill": {
     "duration": 0.038473,
     "end_time": "2022-09-18T22:14:39.589689",
     "exception": false,
     "start_time": "2022-09-18T22:14:39.551216",
     "status": "completed"
    },
    "tags": []
   },
   "outputs": [
    {
     "data": {
      "text/plain": [
       "0.8843995510662177"
      ]
     },
     "execution_count": 62,
     "metadata": {},
     "output_type": "execute_result"
    }
   ],
   "source": [
    "accuracy_score(target_data, Y_pred)"
   ]
  },
  {
   "cell_type": "code",
   "execution_count": 63,
   "id": "c04090f3",
   "metadata": {
    "execution": {
     "iopub.execute_input": "2022-09-18T22:14:39.641517Z",
     "iopub.status.busy": "2022-09-18T22:14:39.640854Z",
     "iopub.status.idle": "2022-09-18T22:14:39.648663Z",
     "shell.execute_reply": "2022-09-18T22:14:39.647535Z"
    },
    "papermill": {
     "duration": 0.0372,
     "end_time": "2022-09-18T22:14:39.650951",
     "exception": false,
     "start_time": "2022-09-18T22:14:39.613751",
     "status": "completed"
    },
    "tags": []
   },
   "outputs": [
    {
     "data": {
      "text/plain": [
       "['feature 0',\n",
       " 'feature 1',\n",
       " 'feature 2',\n",
       " 'feature 3',\n",
       " 'feature 4',\n",
       " 'feature 5',\n",
       " 'feature 6',\n",
       " 'feature 7']"
      ]
     },
     "execution_count": 63,
     "metadata": {},
     "output_type": "execute_result"
    }
   ],
   "source": [
    "feature_names = [f\"feature {i}\" for i in range(training_data.shape[1])]\n",
    "feature_names"
   ]
  },
  {
   "cell_type": "code",
   "execution_count": 64,
   "id": "c198f400",
   "metadata": {
    "execution": {
     "iopub.execute_input": "2022-09-18T22:14:39.703668Z",
     "iopub.status.busy": "2022-09-18T22:14:39.703005Z",
     "iopub.status.idle": "2022-09-18T22:14:39.797565Z",
     "shell.execute_reply": "2022-09-18T22:14:39.796173Z"
    },
    "papermill": {
     "duration": 0.124391,
     "end_time": "2022-09-18T22:14:39.801149",
     "exception": false,
     "start_time": "2022-09-18T22:14:39.676758",
     "status": "completed"
    },
    "tags": []
   },
   "outputs": [
    {
     "data": {
      "text/plain": [
       "88.44"
      ]
     },
     "execution_count": 64,
     "metadata": {},
     "output_type": "execute_result"
    }
   ],
   "source": [
    "\n",
    "random_forest = RandomForestClassifier(n_estimators = 30, criterion = 'gini', random_state = 0)\n",
    "random_forest.fit(training_data, target_data)\n",
    "rf_pred = random_forest.predict(X_test)\n",
    "random_forest.score(training_data, target_data)\n",
    "acc_random_forest = round(random_forest.score(training_data, target_data) * 100, 2)\n",
    "acc_random_forest"
   ]
  },
  {
   "cell_type": "code",
   "execution_count": 65,
   "id": "cc155b18",
   "metadata": {
    "execution": {
     "iopub.execute_input": "2022-09-18T22:14:39.856338Z",
     "iopub.status.busy": "2022-09-18T22:14:39.855887Z",
     "iopub.status.idle": "2022-09-18T22:14:39.874240Z",
     "shell.execute_reply": "2022-09-18T22:14:39.873043Z"
    },
    "papermill": {
     "duration": 0.04844,
     "end_time": "2022-09-18T22:14:39.876748",
     "exception": false,
     "start_time": "2022-09-18T22:14:39.828308",
     "status": "completed"
    },
    "tags": []
   },
   "outputs": [
    {
     "data": {
      "text/html": [
       "<div>\n",
       "<style scoped>\n",
       "    .dataframe tbody tr th:only-of-type {\n",
       "        vertical-align: middle;\n",
       "    }\n",
       "\n",
       "    .dataframe tbody tr th {\n",
       "        vertical-align: top;\n",
       "    }\n",
       "\n",
       "    .dataframe thead th {\n",
       "        text-align: right;\n",
       "    }\n",
       "</style>\n",
       "<table border=\"1\" class=\"dataframe\">\n",
       "  <thead>\n",
       "    <tr style=\"text-align: right;\">\n",
       "      <th></th>\n",
       "      <th>feature</th>\n",
       "      <th>importance</th>\n",
       "    </tr>\n",
       "  </thead>\n",
       "  <tbody>\n",
       "    <tr>\n",
       "      <th>6</th>\n",
       "      <td>Title</td>\n",
       "      <td>0.210589</td>\n",
       "    </tr>\n",
       "    <tr>\n",
       "      <th>1</th>\n",
       "      <td>Sex</td>\n",
       "      <td>0.187912</td>\n",
       "    </tr>\n",
       "    <tr>\n",
       "      <th>7</th>\n",
       "      <td>FamilySize</td>\n",
       "      <td>0.143680</td>\n",
       "    </tr>\n",
       "    <tr>\n",
       "      <th>4</th>\n",
       "      <td>Cabin</td>\n",
       "      <td>0.135279</td>\n",
       "    </tr>\n",
       "    <tr>\n",
       "      <th>2</th>\n",
       "      <td>Age</td>\n",
       "      <td>0.119978</td>\n",
       "    </tr>\n",
       "    <tr>\n",
       "      <th>0</th>\n",
       "      <td>Pclass</td>\n",
       "      <td>0.076545</td>\n",
       "    </tr>\n",
       "    <tr>\n",
       "      <th>3</th>\n",
       "      <td>Fare</td>\n",
       "      <td>0.075149</td>\n",
       "    </tr>\n",
       "    <tr>\n",
       "      <th>5</th>\n",
       "      <td>Embarked</td>\n",
       "      <td>0.050869</td>\n",
       "    </tr>\n",
       "  </tbody>\n",
       "</table>\n",
       "</div>"
      ],
      "text/plain": [
       "      feature  importance\n",
       "6       Title    0.210589\n",
       "1         Sex    0.187912\n",
       "7  FamilySize    0.143680\n",
       "4       Cabin    0.135279\n",
       "2         Age    0.119978\n",
       "0      Pclass    0.076545\n",
       "3        Fare    0.075149\n",
       "5    Embarked    0.050869"
      ]
     },
     "execution_count": 65,
     "metadata": {},
     "output_type": "execute_result"
    }
   ],
   "source": [
    "#Get feature importances\n",
    "importances = pd.DataFrame({'feature': training_data.iloc[:].columns,'importance':random_forest.feature_importances_})\n",
    "importances = importances.sort_values('importance',ascending=False)\n",
    "importances"
   ]
  },
  {
   "cell_type": "code",
   "execution_count": 66,
   "id": "68201371",
   "metadata": {
    "execution": {
     "iopub.execute_input": "2022-09-18T22:14:39.929692Z",
     "iopub.status.busy": "2022-09-18T22:14:39.929262Z",
     "iopub.status.idle": "2022-09-18T22:14:39.944952Z",
     "shell.execute_reply": "2022-09-18T22:14:39.943772Z"
    },
    "papermill": {
     "duration": 0.045173,
     "end_time": "2022-09-18T22:14:39.947449",
     "exception": false,
     "start_time": "2022-09-18T22:14:39.902276",
     "status": "completed"
    },
    "tags": []
   },
   "outputs": [
    {
     "data": {
      "text/plain": [
       "76.43"
      ]
     },
     "execution_count": 66,
     "metadata": {},
     "output_type": "execute_result"
    }
   ],
   "source": [
    "gaussian = GaussianNB()\n",
    "gaussian.fit(training_data, target_data)\n",
    "Y_pred = gaussian.predict(X_test)\n",
    "acc_gaussian = round(gaussian.score(training_data, target_data) * 100, 2)\n",
    "acc_gaussian"
   ]
  },
  {
   "cell_type": "code",
   "execution_count": 67,
   "id": "8265b9ee",
   "metadata": {
    "execution": {
     "iopub.execute_input": "2022-09-18T22:14:39.998810Z",
     "iopub.status.busy": "2022-09-18T22:14:39.998360Z",
     "iopub.status.idle": "2022-09-18T22:14:40.062667Z",
     "shell.execute_reply": "2022-09-18T22:14:40.061333Z"
    },
    "papermill": {
     "duration": 0.093124,
     "end_time": "2022-09-18T22:14:40.065339",
     "exception": false,
     "start_time": "2022-09-18T22:14:39.972215",
     "status": "completed"
    },
    "tags": []
   },
   "outputs": [
    {
     "data": {
      "text/plain": [
       "85.3"
      ]
     },
     "execution_count": 67,
     "metadata": {},
     "output_type": "execute_result"
    }
   ],
   "source": [
    "knn = KNeighborsClassifier(n_neighbors = 3)\n",
    "knn.fit(training_data, target_data)\n",
    "Y_pred = knn.predict(X_test)\n",
    "acc_knn = round(knn.score(training_data, target_data) * 100, 2)\n",
    "acc_knn"
   ]
  },
  {
   "cell_type": "code",
   "execution_count": 68,
   "id": "77814365",
   "metadata": {
    "execution": {
     "iopub.execute_input": "2022-09-18T22:14:40.119814Z",
     "iopub.status.busy": "2022-09-18T22:14:40.119410Z",
     "iopub.status.idle": "2022-09-18T22:14:40.186761Z",
     "shell.execute_reply": "2022-09-18T22:14:40.185317Z"
    },
    "papermill": {
     "duration": 0.098691,
     "end_time": "2022-09-18T22:14:40.189832",
     "exception": false,
     "start_time": "2022-09-18T22:14:40.091141",
     "status": "completed"
    },
    "tags": []
   },
   "outputs": [
    {
     "name": "stderr",
     "output_type": "stream",
     "text": [
      "/opt/conda/lib/python3.7/site-packages/sklearn/svm/_base.py:1208: ConvergenceWarning: Liblinear failed to converge, increase the number of iterations.\n",
      "  ConvergenceWarning,\n"
     ]
    },
    {
     "data": {
      "text/plain": [
       "79.57"
      ]
     },
     "execution_count": 68,
     "metadata": {},
     "output_type": "execute_result"
    }
   ],
   "source": [
    "linear_svc = LinearSVC()\n",
    "linear_svc.fit(training_data, target_data)\n",
    "Y_pred = linear_svc.predict(X_test)\n",
    "acc_linear_svc = round(linear_svc.score(training_data, target_data) * 100, 2)\n",
    "acc_linear_svc"
   ]
  },
  {
   "cell_type": "code",
   "execution_count": 69,
   "id": "ae89002d",
   "metadata": {
    "execution": {
     "iopub.execute_input": "2022-09-18T22:14:40.244330Z",
     "iopub.status.busy": "2022-09-18T22:14:40.243863Z",
     "iopub.status.idle": "2022-09-18T22:14:40.259549Z",
     "shell.execute_reply": "2022-09-18T22:14:40.257993Z"
    },
    "papermill": {
     "duration": 0.046999,
     "end_time": "2022-09-18T22:14:40.261958",
     "exception": false,
     "start_time": "2022-09-18T22:14:40.214959",
     "status": "completed"
    },
    "tags": []
   },
   "outputs": [
    {
     "data": {
      "text/html": [
       "<div>\n",
       "<style scoped>\n",
       "    .dataframe tbody tr th:only-of-type {\n",
       "        vertical-align: middle;\n",
       "    }\n",
       "\n",
       "    .dataframe tbody tr th {\n",
       "        vertical-align: top;\n",
       "    }\n",
       "\n",
       "    .dataframe thead th {\n",
       "        text-align: right;\n",
       "    }\n",
       "</style>\n",
       "<table border=\"1\" class=\"dataframe\">\n",
       "  <thead>\n",
       "    <tr style=\"text-align: right;\">\n",
       "      <th></th>\n",
       "      <th>Model</th>\n",
       "      <th>Score</th>\n",
       "    </tr>\n",
       "  </thead>\n",
       "  <tbody>\n",
       "    <tr>\n",
       "      <th>3</th>\n",
       "      <td>Random Forest</td>\n",
       "      <td>88.44</td>\n",
       "    </tr>\n",
       "    <tr>\n",
       "      <th>8</th>\n",
       "      <td>Decision Tree</td>\n",
       "      <td>88.44</td>\n",
       "    </tr>\n",
       "    <tr>\n",
       "      <th>0</th>\n",
       "      <td>Support Vector Machines</td>\n",
       "      <td>86.98</td>\n",
       "    </tr>\n",
       "    <tr>\n",
       "      <th>1</th>\n",
       "      <td>KNN</td>\n",
       "      <td>85.30</td>\n",
       "    </tr>\n",
       "    <tr>\n",
       "      <th>2</th>\n",
       "      <td>Logistic Regression</td>\n",
       "      <td>80.47</td>\n",
       "    </tr>\n",
       "    <tr>\n",
       "      <th>7</th>\n",
       "      <td>Linear SVC</td>\n",
       "      <td>79.57</td>\n",
       "    </tr>\n",
       "    <tr>\n",
       "      <th>6</th>\n",
       "      <td>Stochastic Gradient Decent</td>\n",
       "      <td>77.55</td>\n",
       "    </tr>\n",
       "    <tr>\n",
       "      <th>4</th>\n",
       "      <td>Naive Bayes</td>\n",
       "      <td>76.43</td>\n",
       "    </tr>\n",
       "    <tr>\n",
       "      <th>5</th>\n",
       "      <td>Perceptron</td>\n",
       "      <td>72.17</td>\n",
       "    </tr>\n",
       "  </tbody>\n",
       "</table>\n",
       "</div>"
      ],
      "text/plain": [
       "                        Model  Score\n",
       "3               Random Forest  88.44\n",
       "8               Decision Tree  88.44\n",
       "0     Support Vector Machines  86.98\n",
       "1                         KNN  85.30\n",
       "2         Logistic Regression  80.47\n",
       "7                  Linear SVC  79.57\n",
       "6  Stochastic Gradient Decent  77.55\n",
       "4                 Naive Bayes  76.43\n",
       "5                  Perceptron  72.17"
      ]
     },
     "execution_count": 69,
     "metadata": {},
     "output_type": "execute_result"
    }
   ],
   "source": [
    "models = pd.DataFrame({\n",
    "    'Model': ['Support Vector Machines', 'KNN', 'Logistic Regression', \n",
    "              'Random Forest', 'Naive Bayes', 'Perceptron', \n",
    "              'Stochastic Gradient Decent', 'Linear SVC', \n",
    "              'Decision Tree'],\n",
    "    'Score': [acc_svc, acc_knn, acc_log, \n",
    "              acc_random_forest, acc_gaussian, acc_perceptron, \n",
    "              acc_sgd, acc_linear_svc, acc_decision_tree]})\n",
    "models.sort_values(by='Score', ascending=False)"
   ]
  },
  {
   "cell_type": "code",
   "execution_count": 70,
   "id": "33e95757",
   "metadata": {
    "execution": {
     "iopub.execute_input": "2022-09-18T22:14:40.316120Z",
     "iopub.status.busy": "2022-09-18T22:14:40.315683Z",
     "iopub.status.idle": "2022-09-18T22:14:40.327151Z",
     "shell.execute_reply": "2022-09-18T22:14:40.326005Z"
    },
    "papermill": {
     "duration": 0.041923,
     "end_time": "2022-09-18T22:14:40.330066",
     "exception": false,
     "start_time": "2022-09-18T22:14:40.288143",
     "status": "completed"
    },
    "tags": []
   },
   "outputs": [],
   "source": [
    "result = pd.DataFrame({\n",
    "        \"PassengerId\": testing[\"PassengerId\"],\n",
    "        \"Survived\": rf_pred\n",
    "    })\n",
    "result.to_csv('result.csv', index=False)"
   ]
  }
 ],
 "metadata": {
  "kernelspec": {
   "display_name": "Python 3",
   "language": "python",
   "name": "python3"
  },
  "language_info": {
   "codemirror_mode": {
    "name": "ipython",
    "version": 3
   },
   "file_extension": ".py",
   "mimetype": "text/x-python",
   "name": "python",
   "nbconvert_exporter": "python",
   "pygments_lexer": "ipython3",
   "version": "3.7.12"
  },
  "papermill": {
   "default_parameters": {},
   "duration": 19.230278,
   "end_time": "2022-09-18T22:14:41.181208",
   "environment_variables": {},
   "exception": null,
   "input_path": "__notebook__.ipynb",
   "output_path": "__notebook__.ipynb",
   "parameters": {},
   "start_time": "2022-09-18T22:14:21.950930",
   "version": "2.3.4"
  }
 },
 "nbformat": 4,
 "nbformat_minor": 5
}
